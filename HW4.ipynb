{
 "cells": [
  {
   "cell_type": "code",
   "execution_count": 1,
   "id": "c4543c41-57e6-4d31-9098-3f28882079c5",
   "metadata": {},
   "outputs": [],
   "source": [
    "import numpy as np\n",
    "import scipy.stats as stats\n",
    "import matplotlib.pyplot as plt"
   ]
  },
  {
   "cell_type": "code",
   "execution_count": 2,
   "id": "6bcfead6-a541-4744-8621-557548738abf",
   "metadata": {},
   "outputs": [],
   "source": [
    "# generate X and beta that is fixed\n",
    "num_samples = 100\n",
    "X = np.random.normal(size=(num_samples,2))\n",
    "X = np.hstack([np.ones((num_samples,1)), X])\n",
    "beta = np.array([1,2,3]).T"
   ]
  },
  {
   "cell_type": "code",
   "execution_count": 3,
   "id": "67b28c78-69eb-43eb-9cb4-0cccc3154f13",
   "metadata": {},
   "outputs": [],
   "source": [
    "# those that actually vary\n",
    "num_sims = 10000\n",
    "t_stats = np.empty(num_sims)\n",
    "for i in range(num_sims):\n",
    "    Y = X @ beta + np.random.normal(size=(num_samples,))\n",
    "    XY = X.T @ Y\n",
    "    XtX = X.T @ X\n",
    "    XtXinv = np.linalg.inv(XtX)\n",
    "    beta_hat = np.linalg.lstsq(XtX, XY)[0]\n",
    "    pred = X @ beta_hat\n",
    "    resid = Y - pred\n",
    "    rss = (resid ** 2).sum()\n",
    "    eta = np.array([0, 1, -2/3])\n",
    "    eta_beta = np.dot(eta, beta_hat)\n",
    "    t_stats[i] = eta_beta / np.sqrt(rss / (num_samples -3) * (eta @ np.linalg.inv(XtX) @ eta.T))"
   ]
  },
  {
   "cell_type": "code",
   "execution_count": 4,
   "id": "033a276d-beec-44ca-ba02-7b6a15589259",
   "metadata": {},
   "outputs": [
    {
     "data": {
      "text/plain": [
       "np.float64(1.01776543344229)"
      ]
     },
     "execution_count": 4,
     "metadata": {},
     "output_type": "execute_result"
    }
   ],
   "source": [
    "# check t_stats have variance approximately 1\n",
    "t_stats.var()"
   ]
  },
  {
   "cell_type": "code",
   "execution_count": 5,
   "id": "df7b2b6f-522a-4748-88a1-6d9e6b7ace52",
   "metadata": {},
   "outputs": [
    {
     "data": {
      "text/plain": [
       "np.float64(0.9477)"
      ]
     },
     "execution_count": 5,
     "metadata": {},
     "output_type": "execute_result"
    }
   ],
   "source": [
    "# identical to the previous, but confidence interval\n",
    "num_sims = 10000\n",
    "confidence_intervals = np.empty((num_sims, 2))\n",
    "for i in range(num_sims):\n",
    "    Y = X @ beta + np.random.normal(size=(num_samples,))\n",
    "    XY = X.T @ Y\n",
    "    XtX = X.T @ X\n",
    "    XtXinv = np.linalg.inv(XtX)\n",
    "    beta_hat = np.linalg.lstsq(XtX, XY)[0]\n",
    "    pred = X @ beta_hat\n",
    "    resid = Y - pred\n",
    "    rss = (resid ** 2).sum()\n",
    "    eta = np.array([0, 1, -2/3])\n",
    "    eta_beta = np.dot(eta, beta_hat)\n",
    "    margin = np.sqrt(rss / (num_samples -3) * (eta @ np.linalg.inv(XtX) @ eta.T))\n",
    "    t_975 = stats.t.ppf(0.975, num_samples-3)\n",
    "    confidence_intervals[i] = eta_beta - t_975 * margin, eta_beta + t_975 * margin\n",
    "coverage_probability = (confidence_intervals[:,0] * confidence_intervals[:,1] < 0).mean()\n",
    "coverage_probability"
   ]
  }
 ],
 "metadata": {
  "kernelspec": {
   "display_name": "mamba:basic",
   "language": "python",
   "name": "basic"
  },
  "language_info": {
   "codemirror_mode": {
    "name": "ipython",
    "version": 3
   },
   "file_extension": ".py",
   "mimetype": "text/x-python",
   "name": "python",
   "nbconvert_exporter": "python",
   "pygments_lexer": "ipython3",
   "version": "3.13.0"
  }
 },
 "nbformat": 4,
 "nbformat_minor": 5
}
