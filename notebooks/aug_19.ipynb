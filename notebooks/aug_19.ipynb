{
 "cells": [
  {
   "cell_type": "markdown",
   "id": "2cb28747-e720-411d-a074-49f2460c9cf3",
   "metadata": {},
   "source": [
    "*Copied from `edge_and_node.ipynb`:*"
   ]
  },
  {
   "cell_type": "code",
   "execution_count": 1,
   "id": "891b2b83-9720-463e-983a-d129e644b548",
   "metadata": {},
   "outputs": [],
   "source": [
    "import numpy as np\n",
    "import pandas as pd\n",
    "import matplotlib.pyplot as plt\n",
    "import numba\n",
    "\n",
    "import scipy.sparse as sparse\n",
    "import scipy.io as io\n",
    "\n",
    "import tskit as ts\n",
    "import msprime\n",
    "\n",
    "import sys\n",
    "from tsblup.operations import *\n",
    "from tsblup.matrices import *\n",
    "# from tsblup.simulations import *"
   ]
  },
  {
   "cell_type": "code",
   "execution_count": 2,
   "id": "679a8301-8a3d-4fad-b52f-faf028206cba",
   "metadata": {},
   "outputs": [],
   "source": [
    "###### sim ancestry\n",
    "ts = msprime.sim_ancestry(\n",
    "    samples=10,\n",
    "    recombination_rate=1e-8,\n",
    "    sequence_length=1_000,\n",
    "    population_size=10_000,\n",
    "    random_seed=100,\n",
    ")\n",
    "\n",
    "###### chunck edges to have unique descendant nodes\n",
    "ts = split_upwards(ts)"
   ]
  },
  {
   "cell_type": "code",
   "execution_count": 3,
   "id": "bcee17b1-1c53-4c9c-988b-df98b6232bce",
   "metadata": {},
   "outputs": [],
   "source": [
    "##### edge-based matrices\n",
    "E_edge = edge_adjacency(ts).T # transpose to make A upper triangular\n",
    "Z_edge = edge_individual_matrix(ts).T\n",
    "D_edge = (ts.edges_right - ts.edges_left) * (ts.nodes_time[ts.edges_parent] - ts.nodes_time[ts.edges_child])"
   ]
  },
  {
   "cell_type": "code",
   "execution_count": 4,
   "id": "5f3ce6cc-a964-40d9-af8e-7eb120d69ae1",
   "metadata": {},
   "outputs": [],
   "source": [
    "assert E_edge.shape == (ts.num_edges, ts.num_edges)\n",
    "assert Z_edge.shape == (ts.num_individuals, ts.num_edges)\n",
    "assert D_edge.shape == (ts.num_edges, )\n",
    "assert (E_edge.min(), E_edge.max()) == (0.0, 1.0)"
   ]
  },
  {
   "cell_type": "code",
   "execution_count": 5,
   "id": "ca87387d-3435-4efb-b1a4-f164560db822",
   "metadata": {},
   "outputs": [],
   "source": [
    "for t in ts.trees():\n",
    "    for n in t.nodes():\n",
    "        p = t.parent(n)\n",
    "        if p != tskit.NULL:\n",
    "            en = t.edge(n)  # edge ID\n",
    "            ep = t.edge(p)\n",
    "            if ep != tskit.NULL:\n",
    "                assert E_edge[en, ep] == 1.0"
   ]
  },
  {
   "cell_type": "code",
   "execution_count": 6,
   "id": "076d83cf-ad12-4508-bc54-e284c5354132",
   "metadata": {},
   "outputs": [],
   "source": [
    "sigma = 0.3\n",
    "nE = ts.num_edges\n",
    "nI = ts.num_individuals\n",
    "n = nE + nI\n",
    "M = np.zeros((n, n), dtype='float')\n",
    "Dinv = np.diag(1/D_edge)\n",
    "Dinvsqrt = np.diag(1 / np.sqrt(D_edge))\n",
    "Dsqrt = np.diag(np.sqrt(D_edge))\n",
    "T = np.linalg.inv(np.eye(ts.num_edges) - E_edge)\n",
    "M[:nE, :nE] = T @ Dsqrt\n",
    "M[:nE, nE:] = 0\n",
    "M[nE:, :nE] = Z_edge.toarray()\n",
    "M[nE:, nE:] = sigma * np.eye(nI)"
   ]
  },
  {
   "cell_type": "code",
   "execution_count": 7,
   "id": "30b36e73-a557-4840-89e3-30359b74ef50",
   "metadata": {},
   "outputs": [],
   "source": [
    "Sigma = M @ (M.T)\n",
    "Q = np.linalg.inv(Sigma)"
   ]
  },
  {
   "cell_type": "code",
   "execution_count": 14,
   "id": "5b75ead8-b997-4350-b9f1-b39020a72bbc",
   "metadata": {},
   "outputs": [],
   "source": [
    "Minv = np.linalg.inv(M)\n",
    "Minv2 = np.zeros(Minv.shape)\n",
    "Minv2[:nE, :nE] = Dinvsqrt @ (np.eye(nE) - E_edge)\n",
    "Minv2[nE:, nE:] = np.eye(nI) / sigma\n",
    "Minv2[nE:, :nE] = (-1/sigma) * Z_edge @ Dinvsqrt @ (np.eye(nE) - E_edge)\n",
    "assert np.max(np.abs(Minv - Minv2)) < 1e-8"
   ]
  },
  {
   "cell_type": "code",
   "execution_count": 15,
   "id": "62df384a-1ab5-4cc7-b4ba-a65137a7496b",
   "metadata": {},
   "outputs": [],
   "source": [
    "assert np.max(np.abs(Q - Minv.T @ Minv)) < 1e-8"
   ]
  },
  {
   "cell_type": "code",
   "execution_count": 18,
   "id": "358fca67-58b1-4dc7-a72b-acbe11dcaa85",
   "metadata": {},
   "outputs": [
    {
     "data": {
      "text/plain": [
       "1.1309566616546363e-08"
      ]
     },
     "execution_count": 18,
     "metadata": {},
     "output_type": "execute_result"
    }
   ],
   "source": [
    "y = np.arange(ts.num_individuals)\n",
    "# Q matrix expression\n",
    "cond_mean_1 = - np.linalg.inv(Q[:nE,:nE]) @ Q[:nE, nE:] @ y\n",
    "# Sigma matrix expression\n",
    "cond_mean_2 = Sigma[:nE,nE:] @ np.linalg.inv(Sigma[nE:,nE:]) @ y\n",
    "np.max(np.abs(cond_mean_1 - cond_mean_2))"
   ]
  },
  {
   "cell_type": "code",
   "execution_count": 20,
   "id": "0229302a-ec20-4ffc-9775-5f1f14961b40",
   "metadata": {},
   "outputs": [
    {
     "data": {
      "text/plain": [
       "1.1314114090055227e-08"
      ]
     },
     "execution_count": 20,
     "metadata": {},
     "output_type": "execute_result"
    }
   ],
   "source": [
    "# manipulated expression\n",
    "S = np.eye(nE) + (1 / sigma**2) * (Z_edge.T @ Z_edge)\n",
    "cond_mean_3 = (1/sigma**2) * T @ Dsqrt @ np.linalg.inv(S) @ Z_edge.T @ y\n",
    "np.max(np.abs(cond_mean_1 - cond_mean_3))"
   ]
  },
  {
   "cell_type": "code",
   "execution_count": 23,
   "id": "83890cfc-3b7b-4dc3-aba4-0606d5dd161f",
   "metadata": {},
   "outputs": [
    {
     "data": {
      "image/png": "[encoded data removed]",
      "text/plain": [
       "<Figure size 480x480 with 1 Axes>"
      ]
     },
     "metadata": {},
     "output_type": "display_data"
    }
   ],
   "source": [
    "import matplotlib.pyplot as plt\n",
    "\n",
    "plt.matshow(S);"
   ]
  },
  {
   "cell_type": "code",
   "execution_count": 38,
   "id": "171816ec-ffe0-4411-8c21-02cc5c28cc33",
   "metadata": {},
   "outputs": [
    {
     "data": {
      "text/plain": [
       "<matplotlib.image.AxesImage at 0x7ff0fa83c1d0>"
      ]
     },
     "execution_count": 38,
     "metadata": {},
     "output_type": "execute_result"
    },
    {
     "data": {
      "image/png": "[encoded data removed]",
      "text/plain": [
       "<Figure size 480x480 with 1 Axes>"
      ]
     },
     "metadata": {},
     "output_type": "display_data"
    }
   ],
   "source": [
    "plt.matshow(np.linalg.inv(S))"
   ]
  }
 ],
 "metadata": {
  "kernelspec": {
   "display_name": "Python 3 (ipykernel)",
   "language": "python",
   "name": "python3"
  },
  "language_info": {
   "codemirror_mode": {
    "name": "ipython",
    "version": 3
   },
   "file_extension": ".py",
   "mimetype": "text/x-python",
   "name": "python",
   "nbconvert_exporter": "python",
   "pygments_lexer": "ipython3",
   "version": "3.11.9"
  }
 },
 "nbformat": 4,
 "nbformat_minor": 5
}
