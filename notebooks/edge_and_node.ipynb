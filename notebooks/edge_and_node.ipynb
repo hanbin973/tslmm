{
 "cells": [
  {
   "cell_type": "code",
   "execution_count": 1,
   "id": "e309b7f1-cbea-43b5-820e-19be8049e82c",
   "metadata": {},
   "outputs": [],
   "source": [
    "import numpy as np\n",
    "import pandas as pd\n",
    "import matplotlib.pyplot as plt\n",
    "import numba\n",
    "\n",
    "import scipy.sparse as sparse\n",
    "import scipy.io as io\n",
    "\n",
    "import tskit as ts\n",
    "import tstrait\n",
    "import msprime\n",
    "\n",
    "import sys\n",
    "sys.path.append(\"../tsblup\") # change the path to where you saved tsblup\n",
    "from tsblup.operations import *\n",
    "from tsblup.matrices import *\n",
    "from tsblup.simulations import *"
   ]
  },
  {
   "cell_type": "code",
   "execution_count": 2,
   "id": "2c821d1d-95d0-4074-a11f-8b52999d25a1",
   "metadata": {},
   "outputs": [],
   "source": [
    "###### sim ancestry\n",
    "ts = msprime.sim_ancestry(\n",
    "    samples=1000,\n",
    "    recombination_rate=1e-8,\n",
    "    sequence_length=100_000,\n",
    "    population_size=10_000,\n",
    "    random_seed=100,\n",
    ")\n",
    "\n",
    "###### chunck edges to have unique descendant nodes\n",
    "split_ts = split_upwards(ts)\n",
    "\n",
    "###### assign effect size to positions\n",
    "np.random.seed(101)\n",
    "beta = np.random.normal(loc=0, scale=0.1, size=int(split_ts.sequence_length))\n",
    "\n",
    "###### simulate trait\n",
    "rate = 2e-8\n",
    "trait_sim = GeneticValueSimulator(split_ts, beta)\n",
    "trait_sim.sim_genetic_value(rate=rate, ignore_parent=True, random_seed=1, model=msprime.InfiniteAlleles())\n",
    "\n",
    "##### edge based matrices\n",
    "A_edge = edge_adjacency(split_ts).T # transpose to make A upper triangular\n",
    "T_edge = sparse.identity(split_ts.num_edges) - A_edge\n",
    "Z_edge = edge_individual_matrix(split_ts).T\n",
    "\n",
    "##### node based matrices\n",
    "A_node, _ = node_transmission_matrix(ts)\n",
    "T_node = sparse.identity(ts.num_nodes) - A_node\n",
    "Z_node = node_individual_matrix(ts).T\n",
    "\n",
    "##### trait values\n",
    "val_tstrait = trait_sim.genetic_df.genetic_value.values\n",
    "val_trait = val_tstrait + np.random.normal(loc=0, scale=np.std(val_tstrait), size=val_tstrait.shape[0])"
   ]
  },
  {
   "cell_type": "code",
   "execution_count": 3,
   "id": "d2b50bc7-7d01-45a5-89f7-b5f04a6c17cc",
   "metadata": {},
   "outputs": [],
   "source": [
    "io.mmwrite('outputs/edge/T.edge.mtx', T_edge)\n",
    "io.mmwrite('outputs/edge/Q.edge.mtx', T_edge.T @ T_edge)\n",
    "io.mmwrite('outputs/edge/Z.edge.mtx', Z_edge)\n",
    "\n",
    "io.mmwrite('outputs/node/Q.node.mtx', T_node)\n",
    "io.mmwrite('outputs/node/Q.node.mtx', T_node.T @ T_node)\n",
    "io.mmwrite('outputs/node/Z.node.mtx', Z_node)\n",
    "\n",
    "np.savetxt('outputs/geneticvalue.txt', val_tstrait)\n",
    "np.savetxt('outputs/phenovalue.txt', val_trait)"
   ]
  }
 ],
 "metadata": {
  "kernelspec": {
   "display_name": "Python 3 (ipykernel)",
   "language": "python",
   "name": "python3"
  },
  "language_info": {
   "codemirror_mode": {
    "name": "ipython",
    "version": 3
   },
   "file_extension": ".py",
   "mimetype": "text/x-python",
   "name": "python",
   "nbconvert_exporter": "python",
   "pygments_lexer": "ipython3",
   "version": "3.12.2"
  }
 },
 "nbformat": 4,
 "nbformat_minor": 5
}
