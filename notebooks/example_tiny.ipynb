{
 "cells": [
  {
   "cell_type": "markdown",
   "metadata": {},
   "source": [
    "# Introduction\n",
    "\n",
    "The aim of this notebook is to demonstrate the tree-sequence-based linear mixed model, its parameters and related/derived quantities, and underlying vectors and matrices. The emphasis is on \"model pedagogy\" rather than efficient estimation."
   ]
  },
  {
   "cell_type": "markdown",
   "metadata": {},
   "source": [
    "# Setup"
   ]
  },
  {
   "cell_type": "code",
   "execution_count": 446,
   "metadata": {
    "vscode": {
     "languageId": "plaintext"
    }
   },
   "outputs": [],
   "source": [
    "import io\n",
    "import os\n",
    "import sys\n",
    "from IPython.display import SVG\n",
    "\n",
    "import numpy as np\n",
    "np.set_printoptions(linewidth = 120)\n",
    "import numba\n",
    "import scipy.sparse as sparse\n",
    "\n",
    "import tskit\n",
    "\n",
    "# TODO: remove sys.path.append after tslmm becomes a package\n",
    "# sys.path.append(os.getcwd() + \"/../\")\n",
    "tsblup_path = \"/Users/ggorjanc/Storages/GitBox/tskit/tsblup/tsblup_upstream/\"\n",
    "sys.path.append(tsblup_path)\n",
    "import tsblup.operations as operations\n",
    "import tsblup.matrices as matrices\n",
    "\n",
    "# TODO: remove sys.path.append after ste_draft is merged in\n",
    "sys.path.append(tsblup_path + \"ste_draft\")\n",
    "from linear_operators import TraitCovariance, NystromPreconditioner\n",
    "from genetic_values import edge_effects as edge_effects_fun"
   ]
  },
  {
   "cell_type": "markdown",
   "metadata": {},
   "source": [
    "# Generate a tree sequence example"
   ]
  },
  {
   "cell_type": "code",
   "execution_count": 447,
   "metadata": {},
   "outputs": [
    {
     "name": "stdout",
     "output_type": "stream",
     "text": [
      "╔═════════════════════════╗\n",
      "║TreeSequence             ║\n",
      "╠═══════════════╤═════════╣\n",
      "║Trees          │        2║\n",
      "╟───────────────┼─────────╢\n",
      "║Sequence Length│       10║\n",
      "╟───────────────┼─────────╢\n",
      "║Time Units     │  unknown║\n",
      "╟───────────────┼─────────╢\n",
      "║Sample Nodes   │        4║\n",
      "╟───────────────┼─────────╢\n",
      "║Total Size     │743 Bytes║\n",
      "╚═══════════════╧═════════╝\n",
      "╔═══════════╤════╤═════════╤════════════╗\n",
      "║Table      │Rows│Size     │Has Metadata║\n",
      "╠═══════════╪════╪═════════╪════════════╣\n",
      "║Edges      │   8│264 Bytes│          No║\n",
      "╟───────────┼────┼─────────┼────────────╢\n",
      "║Individuals│   2│104 Bytes│          No║\n",
      "╟───────────┼────┼─────────┼────────────╢\n",
      "║Migrations │   0│  8 Bytes│          No║\n",
      "╟───────────┼────┼─────────┼────────────╢\n",
      "║Mutations  │   0│ 16 Bytes│          No║\n",
      "╟───────────┼────┼─────────┼────────────╢\n",
      "║Nodes      │   8│232 Bytes│          No║\n",
      "╟───────────┼────┼─────────┼────────────╢\n",
      "║Populations│   0│  8 Bytes│          No║\n",
      "╟───────────┼────┼─────────┼────────────╢\n",
      "║Provenances│   0│ 16 Bytes│          No║\n",
      "╟───────────┼────┼─────────┼────────────╢\n",
      "║Sites      │   0│ 16 Bytes│          No║\n",
      "╚═══════════╧════╧═════════╧════════════╝\n",
      "\n",
      "╔═════════════════════════╗\n",
      "║TreeSequence             ║\n",
      "╠═══════════════╤═════════╣\n",
      "║Trees          │        2║\n",
      "╟───────────────┼─────────╢\n",
      "║Sequence Length│       10║\n",
      "╟───────────────┼─────────╢\n",
      "║Time Units     │  unknown║\n",
      "╟───────────────┼─────────╢\n",
      "║Sample Nodes   │        4║\n",
      "╟───────────────┼─────────╢\n",
      "║Total Size     │743 Bytes║\n",
      "╚═══════════════╧═════════╝\n",
      "╔═══════════╤════╤═════════╤════════════╗\n",
      "║Table      │Rows│Size     │Has Metadata║\n",
      "╠═══════════╪════╪═════════╪════════════╣\n",
      "║Edges      │   8│264 Bytes│          No║\n",
      "╟───────────┼────┼─────────┼────────────╢\n",
      "║Individuals│   2│104 Bytes│          No║\n",
      "╟───────────┼────┼─────────┼────────────╢\n",
      "║Migrations │   0│  8 Bytes│          No║\n",
      "╟───────────┼────┼─────────┼────────────╢\n",
      "║Mutations  │   0│ 16 Bytes│          No║\n",
      "╟───────────┼────┼─────────┼────────────╢\n",
      "║Nodes      │   8│232 Bytes│          No║\n",
      "╟───────────┼────┼─────────┼────────────╢\n",
      "║Populations│   0│  8 Bytes│          No║\n",
      "╟───────────┼────┼─────────┼────────────╢\n",
      "║Provenances│   0│ 16 Bytes│          No║\n",
      "╟───────────┼────┼─────────┼────────────╢\n",
      "║Sites      │   0│ 16 Bytes│          No║\n",
      "╚═══════════╧════╧═════════╧════════════╝\n",
      "\n"
     ]
    }
   ],
   "source": [
    "nodes = io.StringIO(\n",
    "    \"\"\"\\\n",
    "    id is_sample time individual\n",
    "     0         1    0          0\n",
    "     1         1    0          0\n",
    "     2         1    0          1\n",
    "     3         1    0          1\n",
    "     4         0    1         -1\n",
    "     5         0    1         -1\n",
    "     6         0    2         -1\n",
    "     7         0    4         -1\n",
    "    \"\"\"\n",
    ")\n",
    "\n",
    "edges = io.StringIO(\n",
    "    \"\"\"\\\n",
    "    left right parent child\n",
    "       0    10      4     0\n",
    "       0     5      4     1\n",
    "       5    10      5     1\n",
    "       0    10      5     2\n",
    "       0    10      6     3\n",
    "       0    10      6     5\n",
    "       0    10      7     4\n",
    "       0    10      7     6\n",
    "    \"\"\"\n",
    ")\n",
    "\n",
    "individuals = io.StringIO(\n",
    "    \"\"\"\\\n",
    "    flags location parents\n",
    "        0        0      -1\n",
    "        0        0      -1\n",
    "    \"\"\"\n",
    ")\n",
    "\n",
    "ts = tskit.load_text(nodes = nodes, edges = edges, individuals = individuals, strict = False)\n",
    "print(ts)"
   ]
  },
  {
   "cell_type": "code",
   "execution_count": 448,
   "metadata": {},
   "outputs": [
    {
     "data": {
      "image/svg+xml": [
       "<svg xmlns=\"http://www.w3.org/2000/svg\" xmlns:ev=\"http://www.w3.org/2001/xml-events\" xmlns:xlink=\"http://www.w3.org/1999/xlink\" baseProfile=\"full\" height=\"200\" version=\"1.1\" width=\"400\"><defs><style type=\"text/css\"><![CDATA[.background path {fill: #808080; fill-opacity: 0}.background path:nth-child(odd) {fill-opacity: .1}.axes {font-size: 14px}.x-axis .tick .lab {font-weight: bold; dominant-baseline: hanging}.axes, .tree {font-size: 14px; text-anchor: middle}.axes line, .edge {stroke: black; fill: none}.axes .ax-skip {stroke-dasharray: 4}.y-axis .grid {stroke: #FAFAFA}.node > .sym {fill: black; stroke: none}.site > .sym {stroke: black}.mut text {fill: red; font-style: italic}.mut.extra text {fill: hotpink}.mut line {fill: none; stroke: none}.mut .sym {fill: none; stroke: red}.mut.extra .sym {stroke: hotpink}.node .mut .sym {stroke-width: 1.5px}.tree text, .tree-sequence text {dominant-baseline: central}.plotbox .lab.lft {text-anchor: end}.plotbox .lab.rgt {text-anchor: start}]]></style></defs><g class=\"tree-sequence\"><g class=\"background\"><path d=\"M20,0 l180,0 l0,138.2 l0,25 l0,5 l-180,0 l0,-5 l0,-25 l0,-138.2z\"/><path d=\"M200,0 l180,0 l0,138.2 l0,25 l0,5 l-180,0 l0,-5 l0,-25 l0,-138.2z\"/></g><g class=\"axes\"><g class=\"x-axis\"><g class=\"title\" transform=\"translate(200 200)\"><text class=\"lab\" text-anchor=\"middle\" transform=\"translate(0 -11)\">Genome position</text></g><line class=\"ax-line\" x1=\"20\" x2=\"380\" y1=\"163.2\" y2=\"163.2\"/><g class=\"ticks\"><g class=\"tick\" transform=\"translate(20 163.2)\"><line x1=\"0\" x2=\"0\" y1=\"0\" y2=\"5\"/><g transform=\"translate(0 6)\"><text class=\"lab\">0</text></g></g><g class=\"tick\" transform=\"translate(200 163.2)\"><line x1=\"0\" x2=\"0\" y1=\"0\" y2=\"5\"/><g transform=\"translate(0 6)\"><text class=\"lab\">5</text></g></g><g class=\"tick\" transform=\"translate(380 163.2)\"><line x1=\"0\" x2=\"0\" y1=\"0\" y2=\"5\"/><g transform=\"translate(0 6)\"><text class=\"lab\">10</text></g></g></g></g></g><g class=\"plotbox trees\"><g class=\"tree t0\" transform=\"translate(20 0)\"><g class=\"plotbox\"><g class=\"c2 node n7 root\" transform=\"translate(90 26.8)\"><g class=\"a7 c2 node n4\" transform=\"translate(-35 70.95)\"><g class=\"a4 i0 leaf node n0 sample\" transform=\"translate(-17.5 23.65)\"><path class=\"edge\" d=\"M 0 0 V -23.65 H 17.5\"/><rect class=\"sym\" height=\"6\" width=\"6\" x=\"-3\" y=\"-3\"/><text class=\"lab\" transform=\"translate(0 11)\">0</text></g><g class=\"a4 i0 leaf node n1 sample\" transform=\"translate(17.5 23.65)\"><path class=\"edge\" d=\"M 0 0 V -23.65 H -17.5\"/><rect class=\"sym\" height=\"6\" width=\"6\" x=\"-3\" y=\"-3\"/><text class=\"lab\" transform=\"translate(0 11)\">1</text></g><path class=\"edge\" d=\"M 0 0 V -70.95 H 35\"/><circle class=\"sym\" cx=\"0\" cy=\"0\" r=\"3\"/><text class=\"lab lft\" transform=\"translate(-3 -7.0)\">4</text></g><g class=\"a7 c2 node n6\" transform=\"translate(35 47.3)\"><g class=\"a6 i1 leaf node n3 sample\" transform=\"translate(17.5 47.3)\"><path class=\"edge\" d=\"M 0 0 V -47.3 H -17.5\"/><rect class=\"sym\" height=\"6\" width=\"6\" x=\"-3\" y=\"-3\"/><text class=\"lab\" transform=\"translate(0 11)\">3</text></g><g class=\"a6 c1 node n5\" transform=\"translate(-17.5 23.65)\"><g class=\"a5 i1 leaf node n2 sample\" transform=\"translate(0.0 23.65)\"><path class=\"edge\" d=\"M 0 0 V -23.65 H 0.0\"/><rect class=\"sym\" height=\"6\" width=\"6\" x=\"-3\" y=\"-3\"/><text class=\"lab\" transform=\"translate(0 11)\">2</text></g><path class=\"edge\" d=\"M 0 0 V -23.65 H 17.5\"/><circle class=\"sym\" cx=\"0\" cy=\"0\" r=\"3\"/><text class=\"lab lft\" transform=\"translate(-3 -7.0)\">5</text></g><path class=\"edge\" d=\"M 0 0 V -47.3 H -35\"/><circle class=\"sym\" cx=\"0\" cy=\"0\" r=\"3\"/><text class=\"lab rgt\" transform=\"translate(3 -7.0)\">6</text></g><circle class=\"sym\" cx=\"0\" cy=\"0\" r=\"3\"/><text class=\"lab\" transform=\"translate(0 -11)\">7</text></g></g></g><g class=\"tree t1\" transform=\"translate(200 0)\"><g class=\"plotbox\"><g class=\"c2 node n7 root\" transform=\"translate(76.875 26.8)\"><g class=\"a7 c1 node n4\" transform=\"translate(-39.375 70.95)\"><g class=\"a4 i0 leaf node n0 sample\" transform=\"translate(0.0 23.65)\"><path class=\"edge\" d=\"M 0 0 V -23.65 H 0.0\"/><rect class=\"sym\" height=\"6\" width=\"6\" x=\"-3\" y=\"-3\"/><text class=\"lab\" transform=\"translate(0 11)\">0</text></g><path class=\"edge\" d=\"M 0 0 V -70.95 H 39.375\"/><circle class=\"sym\" cx=\"0\" cy=\"0\" r=\"3\"/><text class=\"lab lft\" transform=\"translate(-3 -7.0)\">4</text></g><g class=\"a7 c2 node n6\" transform=\"translate(39.375 47.3)\"><g class=\"a6 i1 leaf node n3 sample\" transform=\"translate(26.25 47.3)\"><path class=\"edge\" d=\"M 0 0 V -47.3 H -26.25\"/><rect class=\"sym\" height=\"6\" width=\"6\" x=\"-3\" y=\"-3\"/><text class=\"lab\" transform=\"translate(0 11)\">3</text></g><g class=\"a6 c2 node n5\" transform=\"translate(-26.25 23.65)\"><g class=\"a5 i1 leaf node n2 sample\" transform=\"translate(17.5 23.65)\"><path class=\"edge\" d=\"M 0 0 V -23.65 H -17.5\"/><rect class=\"sym\" height=\"6\" width=\"6\" x=\"-3\" y=\"-3\"/><text class=\"lab\" transform=\"translate(0 11)\">2</text></g><g class=\"a5 i0 leaf node n1 sample\" transform=\"translate(-17.5 23.65)\"><path class=\"edge\" d=\"M 0 0 V -23.65 H 17.5\"/><rect class=\"sym\" height=\"6\" width=\"6\" x=\"-3\" y=\"-3\"/><text class=\"lab\" transform=\"translate(0 11)\">1</text></g><path class=\"edge\" d=\"M 0 0 V -23.65 H 26.25\"/><circle class=\"sym\" cx=\"0\" cy=\"0\" r=\"3\"/><text class=\"lab lft\" transform=\"translate(-3 -7.0)\">5</text></g><path class=\"edge\" d=\"M 0 0 V -47.3 H -39.375\"/><circle class=\"sym\" cx=\"0\" cy=\"0\" r=\"3\"/><text class=\"lab rgt\" transform=\"translate(3 -7.0)\">6</text></g><circle class=\"sym\" cx=\"0\" cy=\"0\" r=\"3\"/><text class=\"lab\" transform=\"translate(0 -11)\">7</text></g></g></g></g></g></svg>"
      ],
      "text/plain": [
       "<IPython.core.display.SVG object>"
      ]
     },
     "execution_count": null,
     "metadata": {},
     "output_type": "execute_result"
    }
   ],
   "source": [
    "SVG(ts.draw_svg())"
   ]
  },
  {
   "cell_type": "markdown",
   "metadata": {},
   "source": [
    "# Split-upwards the tree sequence"
   ]
  },
  {
   "cell_type": "code",
   "execution_count": 449,
   "metadata": {},
   "outputs": [
    {
     "name": "stdout",
     "output_type": "stream",
     "text": [
      "8\n",
      "╔══╤════╤═════╤══════╤═════╤════════╗\n",
      "║id│left│right│parent│child│metadata║\n",
      "╠══╪════╪═════╪══════╪═════╪════════╣\n",
      "║0 │   0│   10│     4│    0│        ║\n",
      "║1 │   0│    5│     4│    1│        ║\n",
      "║2 │   5│   10│     5│    1│        ║\n",
      "║3 │   0│   10│     5│    2│        ║\n",
      "║4 │   0│   10│     6│    3│        ║\n",
      "║5 │   0│   10│     6│    5│        ║\n",
      "║6 │   0│   10│     7│    4│        ║\n",
      "║7 │   0│   10│     7│    6│        ║\n",
      "╚══╧════╧═════╧══════╧═════╧════════╝\n",
      "\n",
      "8\n",
      "╔══╤════╤═════╤══════╤═════╤════════╗\n",
      "║id│left│right│parent│child│metadata║\n",
      "╠══╪════╪═════╪══════╪═════╪════════╣\n",
      "║0 │   0│   10│     4│    0│        ║\n",
      "║1 │   0│    5│     4│    1│        ║\n",
      "║2 │   5│   10│     5│    1│        ║\n",
      "║3 │   0│   10│     5│    2│        ║\n",
      "║4 │   0│   10│     6│    3│        ║\n",
      "║5 │   0│   10│     6│    5│        ║\n",
      "║6 │   0│   10│     7│    4│        ║\n",
      "║7 │   0│   10│     7│    6│        ║\n",
      "╚══╧════╧═════╧══════╧═════╧════════╝\n",
      "\n"
     ]
    }
   ],
   "source": [
    "print(ts.num_edges) # before the split\n",
    "print(ts.dump_tables().edges)"
   ]
  },
  {
   "cell_type": "code",
   "execution_count": 450,
   "metadata": {},
   "outputs": [
    {
     "name": "stdout",
     "output_type": "stream",
     "text": [
      "11\n",
      "╔══╤════╤═════╤══════╤═════╤════════╗\n",
      "║id│left│right│parent│child│metadata║\n",
      "╠══╪════╪═════╪══════╪═════╪════════╣\n",
      "║0 │   0│   10│     4│    0│        ║\n",
      "║1 │   0│    5│     4│    1│        ║\n",
      "║2 │   5│   10│     5│    1│        ║\n",
      "║3 │   0│   10│     5│    2│        ║\n",
      "║4 │   0│   10│     6│    3│        ║\n",
      "║5 │   0│    5│     6│    5│        ║\n",
      "║6 │   5│   10│     6│    5│        ║\n",
      "║7 │   0│    5│     7│    4│        ║\n",
      "║8 │   5│   10│     7│    4│        ║\n",
      "║9 │   0│    5│     7│    6│        ║\n",
      "║10│   5│   10│     7│    6│        ║\n",
      "╚══╧════╧═════╧══════╧═════╧════════╝\n",
      "\n",
      "11\n",
      "╔══╤════╤═════╤══════╤═════╤════════╗\n",
      "║id│left│right│parent│child│metadata║\n",
      "╠══╪════╪═════╪══════╪═════╪════════╣\n",
      "║0 │   0│   10│     4│    0│        ║\n",
      "║1 │   0│    5│     4│    1│        ║\n",
      "║2 │   5│   10│     5│    1│        ║\n",
      "║3 │   0│   10│     5│    2│        ║\n",
      "║4 │   0│   10│     6│    3│        ║\n",
      "║5 │   0│    5│     6│    5│        ║\n",
      "║6 │   5│   10│     6│    5│        ║\n",
      "║7 │   0│    5│     7│    4│        ║\n",
      "║8 │   5│   10│     7│    4│        ║\n",
      "║9 │   0│    5│     7│    6│        ║\n",
      "║10│   5│   10│     7│    6│        ║\n",
      "╚══╧════╧═════╧══════╧═════╧════════╝\n",
      "\n"
     ]
    }
   ],
   "source": [
    "ts = operations.split_upwards(ts)\n",
    "\n",
    "print(ts.num_edges) # after the split\n",
    "print(ts.dump_tables().edges)"
   ]
  },
  {
   "cell_type": "code",
   "execution_count": 451,
   "metadata": {},
   "outputs": [
    {
     "data": {
      "image/svg+xml": [
       "<svg xmlns=\"http://www.w3.org/2000/svg\" xmlns:ev=\"http://www.w3.org/2001/xml-events\" xmlns:xlink=\"http://www.w3.org/1999/xlink\" baseProfile=\"full\" height=\"200\" version=\"1.1\" width=\"400\"><defs><style type=\"text/css\"><![CDATA[.background path {fill: #808080; fill-opacity: 0}.background path:nth-child(odd) {fill-opacity: .1}.axes {font-size: 14px}.x-axis .tick .lab {font-weight: bold; dominant-baseline: hanging}.axes, .tree {font-size: 14px; text-anchor: middle}.axes line, .edge {stroke: black; fill: none}.axes .ax-skip {stroke-dasharray: 4}.y-axis .grid {stroke: #FAFAFA}.node > .sym {fill: black; stroke: none}.site > .sym {stroke: black}.mut text {fill: red; font-style: italic}.mut.extra text {fill: hotpink}.mut line {fill: none; stroke: none}.mut .sym {fill: none; stroke: red}.mut.extra .sym {stroke: hotpink}.node .mut .sym {stroke-width: 1.5px}.tree text, .tree-sequence text {dominant-baseline: central}.plotbox .lab.lft {text-anchor: end}.plotbox .lab.rgt {text-anchor: start}]]></style></defs><g class=\"tree-sequence\"><g class=\"background\"><path d=\"M20,0 l180,0 l0,138.2 l0,25 l0,5 l-180,0 l0,-5 l0,-25 l0,-138.2z\"/><path d=\"M200,0 l180,0 l0,138.2 l0,25 l0,5 l-180,0 l0,-5 l0,-25 l0,-138.2z\"/></g><g class=\"axes\"><g class=\"x-axis\"><g class=\"title\" transform=\"translate(200 200)\"><text class=\"lab\" text-anchor=\"middle\" transform=\"translate(0 -11)\">Genome position</text></g><line class=\"ax-line\" x1=\"20\" x2=\"380\" y1=\"163.2\" y2=\"163.2\"/><g class=\"ticks\"><g class=\"tick\" transform=\"translate(20 163.2)\"><line x1=\"0\" x2=\"0\" y1=\"0\" y2=\"5\"/><g transform=\"translate(0 6)\"><text class=\"lab\">0</text></g></g><g class=\"tick\" transform=\"translate(200 163.2)\"><line x1=\"0\" x2=\"0\" y1=\"0\" y2=\"5\"/><g transform=\"translate(0 6)\"><text class=\"lab\">5</text></g></g><g class=\"tick\" transform=\"translate(380 163.2)\"><line x1=\"0\" x2=\"0\" y1=\"0\" y2=\"5\"/><g transform=\"translate(0 6)\"><text class=\"lab\">10</text></g></g></g></g></g><g class=\"plotbox trees\"><g class=\"tree t0\" transform=\"translate(20 0)\"><g class=\"plotbox\"><g class=\"c2 node n7 root\" transform=\"translate(90 26.8)\"><g class=\"a7 c2 node n4\" transform=\"translate(-35 70.95)\"><g class=\"a4 i0 leaf node n0 sample\" transform=\"translate(-17.5 23.65)\"><path class=\"edge\" d=\"M 0 0 V -23.65 H 17.5\"/><rect class=\"sym\" height=\"6\" width=\"6\" x=\"-3\" y=\"-3\"/><text class=\"lab\" transform=\"translate(0 11)\">0</text></g><g class=\"a4 i0 leaf node n1 sample\" transform=\"translate(17.5 23.65)\"><path class=\"edge\" d=\"M 0 0 V -23.65 H -17.5\"/><rect class=\"sym\" height=\"6\" width=\"6\" x=\"-3\" y=\"-3\"/><text class=\"lab\" transform=\"translate(0 11)\">1</text></g><path class=\"edge\" d=\"M 0 0 V -70.95 H 35\"/><circle class=\"sym\" cx=\"0\" cy=\"0\" r=\"3\"/><text class=\"lab lft\" transform=\"translate(-3 -7.0)\">4</text></g><g class=\"a7 c2 node n6\" transform=\"translate(35 47.3)\"><g class=\"a6 i1 leaf node n3 sample\" transform=\"translate(17.5 47.3)\"><path class=\"edge\" d=\"M 0 0 V -47.3 H -17.5\"/><rect class=\"sym\" height=\"6\" width=\"6\" x=\"-3\" y=\"-3\"/><text class=\"lab\" transform=\"translate(0 11)\">3</text></g><g class=\"a6 c1 node n5\" transform=\"translate(-17.5 23.65)\"><g class=\"a5 i1 leaf node n2 sample\" transform=\"translate(0.0 23.65)\"><path class=\"edge\" d=\"M 0 0 V -23.65 H 0.0\"/><rect class=\"sym\" height=\"6\" width=\"6\" x=\"-3\" y=\"-3\"/><text class=\"lab\" transform=\"translate(0 11)\">2</text></g><path class=\"edge\" d=\"M 0 0 V -23.65 H 17.5\"/><circle class=\"sym\" cx=\"0\" cy=\"0\" r=\"3\"/><text class=\"lab lft\" transform=\"translate(-3 -7.0)\">5</text></g><path class=\"edge\" d=\"M 0 0 V -47.3 H -35\"/><circle class=\"sym\" cx=\"0\" cy=\"0\" r=\"3\"/><text class=\"lab rgt\" transform=\"translate(3 -7.0)\">6</text></g><circle class=\"sym\" cx=\"0\" cy=\"0\" r=\"3\"/><text class=\"lab\" transform=\"translate(0 -11)\">7</text></g></g></g><g class=\"tree t1\" transform=\"translate(200 0)\"><g class=\"plotbox\"><g class=\"c2 node n7 root\" transform=\"translate(76.875 26.8)\"><g class=\"a7 c1 node n4\" transform=\"translate(-39.375 70.95)\"><g class=\"a4 i0 leaf node n0 sample\" transform=\"translate(0.0 23.65)\"><path class=\"edge\" d=\"M 0 0 V -23.65 H 0.0\"/><rect class=\"sym\" height=\"6\" width=\"6\" x=\"-3\" y=\"-3\"/><text class=\"lab\" transform=\"translate(0 11)\">0</text></g><path class=\"edge\" d=\"M 0 0 V -70.95 H 39.375\"/><circle class=\"sym\" cx=\"0\" cy=\"0\" r=\"3\"/><text class=\"lab lft\" transform=\"translate(-3 -7.0)\">4</text></g><g class=\"a7 c2 node n6\" transform=\"translate(39.375 47.3)\"><g class=\"a6 i1 leaf node n3 sample\" transform=\"translate(26.25 47.3)\"><path class=\"edge\" d=\"M 0 0 V -47.3 H -26.25\"/><rect class=\"sym\" height=\"6\" width=\"6\" x=\"-3\" y=\"-3\"/><text class=\"lab\" transform=\"translate(0 11)\">3</text></g><g class=\"a6 c2 node n5\" transform=\"translate(-26.25 23.65)\"><g class=\"a5 i1 leaf node n2 sample\" transform=\"translate(17.5 23.65)\"><path class=\"edge\" d=\"M 0 0 V -23.65 H -17.5\"/><rect class=\"sym\" height=\"6\" width=\"6\" x=\"-3\" y=\"-3\"/><text class=\"lab\" transform=\"translate(0 11)\">2</text></g><g class=\"a5 i0 leaf node n1 sample\" transform=\"translate(-17.5 23.65)\"><path class=\"edge\" d=\"M 0 0 V -23.65 H 17.5\"/><rect class=\"sym\" height=\"6\" width=\"6\" x=\"-3\" y=\"-3\"/><text class=\"lab\" transform=\"translate(0 11)\">1</text></g><path class=\"edge\" d=\"M 0 0 V -23.65 H 26.25\"/><circle class=\"sym\" cx=\"0\" cy=\"0\" r=\"3\"/><text class=\"lab lft\" transform=\"translate(-3 -7.0)\">5</text></g><path class=\"edge\" d=\"M 0 0 V -47.3 H -39.375\"/><circle class=\"sym\" cx=\"0\" cy=\"0\" r=\"3\"/><text class=\"lab rgt\" transform=\"translate(3 -7.0)\">6</text></g><circle class=\"sym\" cx=\"0\" cy=\"0\" r=\"3\"/><text class=\"lab\" transform=\"translate(0 -11)\">7</text></g></g></g></g></g></svg>"
      ],
      "text/plain": [
       "<IPython.core.display.SVG object>"
      ]
     },
     "execution_count": null,
     "metadata": {},
     "output_type": "execute_result"
    }
   ],
   "source": [
    "SVG(ts.draw_svg())"
   ]
  },
  {
   "cell_type": "markdown",
   "metadata": {},
   "source": [
    "# Setup matrices"
   ]
  },
  {
   "cell_type": "code",
   "execution_count": 452,
   "metadata": {},
   "outputs": [
    {
     "name": "stdout",
     "output_type": "stream",
     "text": [
      "(2, 11)\n",
      "  (0, 0)\t1.0\n",
      "  (0, 1)\t1.0\n",
      "  (0, 2)\t1.0\n",
      "  (1, 3)\t1.0\n",
      "  (1, 4)\t1.0\n",
      "(2, 11)\n",
      "  (0, 0)\t1.0\n",
      "  (0, 1)\t1.0\n",
      "  (0, 2)\t1.0\n",
      "  (1, 3)\t1.0\n",
      "  (1, 4)\t1.0\n"
     ]
    }
   ],
   "source": [
    "\n",
    "# TODO: This model notation and assumptions will go into the manuscript\n",
    "\n",
    "# The assumed model here is:\n",
    "# \n",
    "# y = Xb + Zg + e\n",
    "# \n",
    "# y (n_y * 1) phenotypic values\n",
    "# X (n_y * n_b) design matrix linking y with b\n",
    "# b (n_b * 1) fixed effects\n",
    "# Z (n_y * n_g) design matrix linking y with g\n",
    "# g (n_g * 1) individuals' genetic values\n",
    "# e (n_y * 1) residuals; e ~ N(0, I sigma^2_e)\n",
    "# \n",
    "# g = Wr\n",
    "# W (n_g * n_edges) design matrix linking g with r\n",
    "# r (n_edges * 1) edge values\n",
    "# \n",
    "# r = Tu\n",
    "# T (n_edges * n_edges) design matrix linking r with u (summing up u into edge values)\n",
    "# u (n_edges * 1) edge \"innovation\" effects on edge areas; u ~ N(0, D sigma^2_u)\n",
    "# (due to new mutations arising along the DNA span of edges between \"parent\" and \"child\"\n",
    "#  nodes and along the time length of edges --> edge areas)\n",
    "# \n",
    "# r = TSu*; u* ~ N(0, I sigma^2_u)\n",
    "# T (n_edges * n_edges) edge design matrix linking r with u* (summing up u* into edge values)\n",
    "# S (n_edges * n_edges) diagonal matrix with sqrt(edge areas)\n",
    "# u (n_edges * 1) normalised edge \"innovation\" effects; u* ~ N(0, sigma^2_u)\n",
    "# \n",
    "# n = Nr\n",
    "# n (n_nodes * 1) node values\n",
    "# N (n_nodes * n_edges) design matrix linking n with r (summing up r into node values)\n",
    "# \n",
    "# Covariance between edge values (r = Tu = TSu*):\n",
    "# \n",
    "# C_r = Var(r | T, S) = TSS'T' sigma^2_u = TDT' sigma^2_u\n",
    "#\n",
    "# Covariance between node values (n = Nr):\n",
    "# \n",
    "# C_n = Var(n | N, T, S) = NTDT'N' sigma^2_u\n",
    "#\n",
    "# Covariance between genetic values (g = Wr):\n",
    "# \n",
    "# C_g = Var(g | W, T, S) = WTDT'W' sigma^2_u\n",
    "#  \n",
    "# Covariance between phenotypic values (y = Xb + Zg + e):\n",
    "# \n",
    "# C_y = Var(y | Z, W, T, S) = ZWTDT'W'Z' sigma^2_u + I sigma^2_e\n",
    "# \n",
    "# Some relations:\n",
    "#  \n",
    "# Q_r = inv(C_r) = inv(TDT' sigma^2_u) = inv(LL' sigma^2_u)\n",
    "#     = inv(T)' inv(D) inv(T) sigma^(-2)_u = inv(L)' inv(L) sigma^(-2)_u\n",
    "#     = (I - E)' inv(D) (I - E) sigma^(-2)_u\n",
    "#     = (I - E)' inv(SS) (I - E) sigma^(-2)_u\n",
    "# inv(L) = inv(S) (I - E) = inv(S) inv(T)\n",
    "# L = inv(inv(L)) = inv(inv(S) inv(T)) = TS\n",
    "# inv(T) = I - E\n",
    "\n",
    "# Design matrix linking design matrix linking y with b\n",
    "X = np.array([1, 1])\n",
    "\n",
    "# Design matrix linking individuals and edges (those that point to individuals' nodes)\n",
    "# (at the moment, W matrix here combines Z & W matrices above)\n",
    "W = matrices.edge_individual_matrix(ts).T\n",
    "print(W.shape)\n",
    "print(W)"
   ]
  },
  {
   "cell_type": "code",
   "execution_count": 453,
   "metadata": {},
   "outputs": [
    {
     "name": "stdout",
     "output_type": "stream",
     "text": [
      "(11, 11)\n",
      "[[ 1.  0.  0.  0.  0.  0.  0. -1. -1.  0.  0.]\n",
      " [ 0.  1.  0.  0.  0.  0.  0. -1.  0.  0.  0.]\n",
      " [ 0.  0.  1.  0.  0.  0. -1.  0.  0.  0.  0.]\n",
      " [ 0.  0.  0.  1.  0. -1. -1.  0.  0.  0.  0.]\n",
      " [ 0.  0.  0.  0.  1.  0.  0.  0.  0. -1. -1.]\n",
      " [ 0.  0.  0.  0.  0.  1.  0.  0.  0. -1.  0.]\n",
      " [ 0.  0.  0.  0.  0.  0.  1.  0.  0.  0. -1.]\n",
      " [ 0.  0.  0.  0.  0.  0.  0.  1.  0.  0.  0.]\n",
      " [ 0.  0.  0.  0.  0.  0.  0.  0.  1.  0.  0.]\n",
      " [ 0.  0.  0.  0.  0.  0.  0.  0.  0.  1.  0.]\n",
      " [ 0.  0.  0.  0.  0.  0.  0.  0.  0.  0.  1.]]\n",
      "(11, 11)\n",
      "[[ 1.  0.  0.  0.  0.  0.  0. -1. -1.  0.  0.]\n",
      " [ 0.  1.  0.  0.  0.  0.  0. -1.  0.  0.  0.]\n",
      " [ 0.  0.  1.  0.  0.  0. -1.  0.  0.  0.  0.]\n",
      " [ 0.  0.  0.  1.  0. -1. -1.  0.  0.  0.  0.]\n",
      " [ 0.  0.  0.  0.  1.  0.  0.  0.  0. -1. -1.]\n",
      " [ 0.  0.  0.  0.  0.  1.  0.  0.  0. -1.  0.]\n",
      " [ 0.  0.  0.  0.  0.  0.  1.  0.  0.  0. -1.]\n",
      " [ 0.  0.  0.  0.  0.  0.  0.  1.  0.  0.  0.]\n",
      " [ 0.  0.  0.  0.  0.  0.  0.  0.  1.  0.  0.]\n",
      " [ 0.  0.  0.  0.  0.  0.  0.  0.  0.  1.  0.]\n",
      " [ 0.  0.  0.  0.  0.  0.  0.  0.  0.  0.  1.]]\n"
     ]
    }
   ],
   "source": [
    "# Edge value \"structure\" matrix (TInv = I-E) (adjacent edges)\n",
    "TInv = sparse.identity(ts.num_edges) - matrices.edge_adjacency(ts).T\n",
    "TInv.sort_indices() # ensure order for working across Python packages\n",
    "print(TInv.shape)\n",
    "print(TInv.toarray()) # it's upper-triangular because we order/number edges back in time"
   ]
  },
  {
   "cell_type": "code",
   "execution_count": 454,
   "metadata": {},
   "outputs": [
    {
     "name": "stdout",
     "output_type": "stream",
     "text": [
      "[[1. 0. 0. 0. 0. 0. 0. 1. 1. 0. 0.]\n",
      " [0. 1. 0. 0. 0. 0. 0. 1. 0. 0. 0.]\n",
      " [0. 0. 1. 0. 0. 0. 1. 0. 0. 0. 1.]\n",
      " [0. 0. 0. 1. 0. 1. 1. 0. 0. 1. 1.]\n",
      " [0. 0. 0. 0. 1. 0. 0. 0. 0. 1. 1.]\n",
      " [0. 0. 0. 0. 0. 1. 0. 0. 0. 1. 0.]\n",
      " [0. 0. 0. 0. 0. 0. 1. 0. 0. 0. 1.]\n",
      " [0. 0. 0. 0. 0. 0. 0. 1. 0. 0. 0.]\n",
      " [0. 0. 0. 0. 0. 0. 0. 0. 1. 0. 0.]\n",
      " [0. 0. 0. 0. 0. 0. 0. 0. 0. 1. 0.]\n",
      " [0. 0. 0. 0. 0. 0. 0. 0. 0. 0. 1.]]\n",
      "[[1. 0. 0. 0. 0. 0. 0. 1. 1. 0. 0.]\n",
      " [0. 1. 0. 0. 0. 0. 0. 1. 0. 0. 0.]\n",
      " [0. 0. 1. 0. 0. 0. 1. 0. 0. 0. 1.]\n",
      " [0. 0. 0. 1. 0. 1. 1. 0. 0. 1. 1.]\n",
      " [0. 0. 0. 0. 1. 0. 0. 0. 0. 1. 1.]\n",
      " [0. 0. 0. 0. 0. 1. 0. 0. 0. 1. 0.]\n",
      " [0. 0. 0. 0. 0. 0. 1. 0. 0. 0. 1.]\n",
      " [0. 0. 0. 0. 0. 0. 0. 1. 0. 0. 0.]\n",
      " [0. 0. 0. 0. 0. 0. 0. 0. 1. 0. 0.]\n",
      " [0. 0. 0. 0. 0. 0. 0. 0. 0. 1. 0.]\n",
      " [0. 0. 0. 0. 0. 0. 0. 0. 0. 0. 1.]]\n"
     ]
    }
   ],
   "source": [
    "# Edge value design matrix (T = inv(I-E)) (edge connections back in time)\n",
    "T = np.linalg.inv(TInv.toarray())\n",
    "print(T) # it's upper-triangular because we order/number edges back in time"
   ]
  },
  {
   "cell_type": "code",
   "execution_count": 455,
   "metadata": {},
   "outputs": [
    {
     "name": "stdout",
     "output_type": "stream",
     "text": [
      "[[10.     1.    10.     0.1  ]\n",
      " [ 5.     1.     5.     0.2  ]\n",
      " [ 5.     1.     5.     0.2  ]\n",
      " [10.     1.    10.     0.1  ]\n",
      " [10.     2.    20.     0.05 ]\n",
      " [ 5.     1.     5.     0.2  ]\n",
      " [ 5.     1.     5.     0.2  ]\n",
      " [ 5.     3.    15.     0.067]\n",
      " [ 5.     3.    15.     0.067]\n",
      " [ 5.     2.    10.     0.1  ]\n",
      " [ 5.     2.    10.     0.1  ]]\n",
      "[[10.     1.    10.     0.1  ]\n",
      " [ 5.     1.     5.     0.2  ]\n",
      " [ 5.     1.     5.     0.2  ]\n",
      " [10.     1.    10.     0.1  ]\n",
      " [10.     2.    20.     0.05 ]\n",
      " [ 5.     1.     5.     0.2  ]\n",
      " [ 5.     1.     5.     0.2  ]\n",
      " [ 5.     3.    15.     0.067]\n",
      " [ 5.     3.    15.     0.067]\n",
      " [ 5.     2.    10.     0.1  ]\n",
      " [ 5.     2.    10.     0.1  ]]\n"
     ]
    }
   ],
   "source": [
    "# Diagonal matrix of variance or precision coefficients of edge effects\n",
    "edge_spans = ts.edges_right - ts.edges_left\n",
    "edge_lengths = ts.nodes_time[ts.edges_parent] - ts.nodes_time[ts.edges_child]\n",
    "edge_areas = edge_spans * edge_lengths # = mutational_target\n",
    "D = sparse.diags_array(edge_areas)\n",
    "S = np.sqrt(D)\n",
    "DInv = sparse.diags_array(1 / edge_areas)\n",
    "SInv = np.sqrt(DInv)\n",
    "print(np.column_stack((edge_spans, edge_lengths, edge_areas, (1 / edge_areas).round(3))))"
   ]
  },
  {
   "cell_type": "code",
   "execution_count": 456,
   "metadata": {},
   "outputs": [
    {
     "name": "stdout",
     "output_type": "stream",
     "text": [
      "[[1. 0. 0. 0. 0. 0. 0. 0. 0. 0. 0.]\n",
      " [0. 1. 0. 0. 0. 0. 0. 0. 0. 0. 0.]\n",
      " [0. 0. 1. 0. 0. 0. 0. 0. 0. 0. 0.]\n",
      " [0. 0. 0. 1. 0. 0. 0. 0. 0. 0. 0.]\n",
      " [0. 0. 0. 0. 1. 0. 0. 0. 0. 0. 0.]\n",
      " [0. 0. 0. 0. 0. 1. 0. 0. 0. 0. 0.]\n",
      " [0. 0. 0. 0. 0. 0. 1. 0. 0. 0. 0.]\n",
      " [0. 0. 0. 0. 0. 0. 0. 1. 0. 0. 0.]\n",
      " [0. 0. 0. 0. 0. 0. 0. 0. 1. 0. 0.]\n",
      " [0. 0. 0. 0. 0. 0. 0. 0. 0. 1. 0.]\n",
      " [0. 0. 0. 0. 0. 0. 0. 0. 0. 0. 1.]]\n",
      "[[1. 0. 0. 0. 0. 0. 0. 0. 0. 0. 0.]\n",
      " [0. 1. 0. 0. 0. 0. 0. 0. 0. 0. 0.]\n",
      " [0. 0. 1. 0. 0. 0. 0. 0. 0. 0. 0.]\n",
      " [0. 0. 0. 1. 0. 0. 0. 0. 0. 0. 0.]\n",
      " [0. 0. 0. 0. 1. 0. 0. 0. 0. 0. 0.]\n",
      " [0. 0. 0. 0. 0. 1. 0. 0. 0. 0. 0.]\n",
      " [0. 0. 0. 0. 0. 0. 1. 0. 0. 0. 0.]\n",
      " [0. 0. 0. 0. 0. 0. 0. 1. 0. 0. 0.]\n",
      " [0. 0. 0. 0. 0. 0. 0. 0. 1. 0. 0.]\n",
      " [0. 0. 0. 0. 0. 0. 0. 0. 0. 1. 0.]\n",
      " [0. 0. 0. 0. 0. 0. 0. 0. 0. 0. 1.]]\n"
     ]
    }
   ],
   "source": [
    "# Precision coefficient matrix for edge effects per unit area\n",
    "Qus = sparse.identity(ts.num_edges)\n",
    "print(Qus.toarray().round(3))\n",
    "# See below for print((Qus.toarray() / sigma2u).round(3))"
   ]
  },
  {
   "cell_type": "code",
   "execution_count": 457,
   "metadata": {},
   "outputs": [
    {
     "name": "stdout",
     "output_type": "stream",
     "text": [
      "[[1. 0. 0. 0. 0. 0. 0. 0. 0. 0. 0.]\n",
      " [0. 1. 0. 0. 0. 0. 0. 0. 0. 0. 0.]\n",
      " [0. 0. 1. 0. 0. 0. 0. 0. 0. 0. 0.]\n",
      " [0. 0. 0. 1. 0. 0. 0. 0. 0. 0. 0.]\n",
      " [0. 0. 0. 0. 1. 0. 0. 0. 0. 0. 0.]\n",
      " [0. 0. 0. 0. 0. 1. 0. 0. 0. 0. 0.]\n",
      " [0. 0. 0. 0. 0. 0. 1. 0. 0. 0. 0.]\n",
      " [0. 0. 0. 0. 0. 0. 0. 1. 0. 0. 0.]\n",
      " [0. 0. 0. 0. 0. 0. 0. 0. 1. 0. 0.]\n",
      " [0. 0. 0. 0. 0. 0. 0. 0. 0. 1. 0.]\n",
      " [0. 0. 0. 0. 0. 0. 0. 0. 0. 0. 1.]]\n",
      "[[1. 0. 0. 0. 0. 0. 0. 0. 0. 0. 0.]\n",
      " [0. 1. 0. 0. 0. 0. 0. 0. 0. 0. 0.]\n",
      " [0. 0. 1. 0. 0. 0. 0. 0. 0. 0. 0.]\n",
      " [0. 0. 0. 1. 0. 0. 0. 0. 0. 0. 0.]\n",
      " [0. 0. 0. 0. 1. 0. 0. 0. 0. 0. 0.]\n",
      " [0. 0. 0. 0. 0. 1. 0. 0. 0. 0. 0.]\n",
      " [0. 0. 0. 0. 0. 0. 1. 0. 0. 0. 0.]\n",
      " [0. 0. 0. 0. 0. 0. 0. 1. 0. 0. 0.]\n",
      " [0. 0. 0. 0. 0. 0. 0. 0. 1. 0. 0.]\n",
      " [0. 0. 0. 0. 0. 0. 0. 0. 0. 1. 0.]\n",
      " [0. 0. 0. 0. 0. 0. 0. 0. 0. 0. 1.]]\n"
     ]
    }
   ],
   "source": [
    "# Covariance coefficient matrix for edge effects per unit area\n",
    "Cus = sparse.identity(ts.num_edges).toarray()\n",
    "print(Cus.round(3))\n",
    "# See below for print((Qu / sigma2u).round(3))"
   ]
  },
  {
   "cell_type": "code",
   "execution_count": 458,
   "metadata": {},
   "outputs": [
    {
     "name": "stdout",
     "output_type": "stream",
     "text": [
      "[[0.1   0.    0.    0.    0.    0.    0.    0.    0.    0.    0.   ]\n",
      " [0.    0.2   0.    0.    0.    0.    0.    0.    0.    0.    0.   ]\n",
      " [0.    0.    0.2   0.    0.    0.    0.    0.    0.    0.    0.   ]\n",
      " [0.    0.    0.    0.1   0.    0.    0.    0.    0.    0.    0.   ]\n",
      " [0.    0.    0.    0.    0.05  0.    0.    0.    0.    0.    0.   ]\n",
      " [0.    0.    0.    0.    0.    0.2   0.    0.    0.    0.    0.   ]\n",
      " [0.    0.    0.    0.    0.    0.    0.2   0.    0.    0.    0.   ]\n",
      " [0.    0.    0.    0.    0.    0.    0.    0.067 0.    0.    0.   ]\n",
      " [0.    0.    0.    0.    0.    0.    0.    0.    0.067 0.    0.   ]\n",
      " [0.    0.    0.    0.    0.    0.    0.    0.    0.    0.1   0.   ]\n",
      " [0.    0.    0.    0.    0.    0.    0.    0.    0.    0.    0.1  ]]\n",
      "[[0.1   0.    0.    0.    0.    0.    0.    0.    0.    0.    0.   ]\n",
      " [0.    0.2   0.    0.    0.    0.    0.    0.    0.    0.    0.   ]\n",
      " [0.    0.    0.2   0.    0.    0.    0.    0.    0.    0.    0.   ]\n",
      " [0.    0.    0.    0.1   0.    0.    0.    0.    0.    0.    0.   ]\n",
      " [0.    0.    0.    0.    0.05  0.    0.    0.    0.    0.    0.   ]\n",
      " [0.    0.    0.    0.    0.    0.2   0.    0.    0.    0.    0.   ]\n",
      " [0.    0.    0.    0.    0.    0.    0.2   0.    0.    0.    0.   ]\n",
      " [0.    0.    0.    0.    0.    0.    0.    0.067 0.    0.    0.   ]\n",
      " [0.    0.    0.    0.    0.    0.    0.    0.    0.067 0.    0.   ]\n",
      " [0.    0.    0.    0.    0.    0.    0.    0.    0.    0.1   0.   ]\n",
      " [0.    0.    0.    0.    0.    0.    0.    0.    0.    0.    0.1  ]]\n"
     ]
    }
   ],
   "source": [
    "# Precision coefficient matrix for edge effects\n",
    "Qu = DInv\n",
    "print(Qu.toarray().round(3))\n",
    "# See below for print((Qu.toarray() / sigma2u).round(3))"
   ]
  },
  {
   "cell_type": "code",
   "execution_count": 459,
   "metadata": {},
   "outputs": [
    {
     "name": "stdout",
     "output_type": "stream",
     "text": [
      "[[10.  0.  0.  0.  0.  0.  0.  0.  0.  0.  0.]\n",
      " [ 0.  5.  0.  0.  0.  0.  0.  0.  0.  0.  0.]\n",
      " [ 0.  0.  5.  0.  0.  0.  0.  0.  0.  0.  0.]\n",
      " [ 0.  0.  0. 10.  0.  0.  0.  0.  0.  0.  0.]\n",
      " [ 0.  0.  0.  0. 20.  0.  0.  0.  0.  0.  0.]\n",
      " [ 0.  0.  0.  0.  0.  5.  0.  0.  0.  0.  0.]\n",
      " [ 0.  0.  0.  0.  0.  0.  5.  0.  0.  0.  0.]\n",
      " [ 0.  0.  0.  0.  0.  0.  0. 15.  0.  0.  0.]\n",
      " [ 0.  0.  0.  0.  0.  0.  0.  0. 15.  0.  0.]\n",
      " [ 0.  0.  0.  0.  0.  0.  0.  0.  0. 10.  0.]\n",
      " [ 0.  0.  0.  0.  0.  0.  0.  0.  0.  0. 10.]]\n",
      "[[10.  0.  0.  0.  0.  0.  0.  0.  0.  0.  0.]\n",
      " [ 0.  5.  0.  0.  0.  0.  0.  0.  0.  0.  0.]\n",
      " [ 0.  0.  5.  0.  0.  0.  0.  0.  0.  0.  0.]\n",
      " [ 0.  0.  0. 10.  0.  0.  0.  0.  0.  0.  0.]\n",
      " [ 0.  0.  0.  0. 20.  0.  0.  0.  0.  0.  0.]\n",
      " [ 0.  0.  0.  0.  0.  5.  0.  0.  0.  0.  0.]\n",
      " [ 0.  0.  0.  0.  0.  0.  5.  0.  0.  0.  0.]\n",
      " [ 0.  0.  0.  0.  0.  0.  0. 15.  0.  0.  0.]\n",
      " [ 0.  0.  0.  0.  0.  0.  0.  0. 15.  0.  0.]\n",
      " [ 0.  0.  0.  0.  0.  0.  0.  0.  0. 10.  0.]\n",
      " [ 0.  0.  0.  0.  0.  0.  0.  0.  0.  0. 10.]]\n"
     ]
    }
   ],
   "source": [
    "# Covariance coefficient matrix for edge effects\n",
    "Cu = np.linalg.inv(Qu.toarray())\n",
    "print(Cu.round(3))\n",
    "# See below for print((Qu / sigma2u).round(3))"
   ]
  },
  {
   "cell_type": "code",
   "execution_count": 460,
   "metadata": {},
   "outputs": [
    {
     "name": "stdout",
     "output_type": "stream",
     "text": [
      "[[ 0.316  0.     0.     0.     0.     0.     0.    -0.316 -0.316  0.     0.   ]\n",
      " [ 0.     0.447  0.     0.     0.     0.     0.    -0.447  0.     0.     0.   ]\n",
      " [ 0.     0.     0.447  0.     0.     0.    -0.447  0.     0.     0.     0.   ]\n",
      " [ 0.     0.     0.     0.316  0.    -0.316 -0.316  0.     0.     0.     0.   ]\n",
      " [ 0.     0.     0.     0.     0.224  0.     0.     0.     0.    -0.224 -0.224]\n",
      " [ 0.     0.     0.     0.     0.     0.447  0.     0.     0.    -0.447  0.   ]\n",
      " [ 0.     0.     0.     0.     0.     0.     0.447  0.     0.     0.    -0.447]\n",
      " [ 0.     0.     0.     0.     0.     0.     0.     0.258  0.     0.     0.   ]\n",
      " [ 0.     0.     0.     0.     0.     0.     0.     0.     0.258  0.     0.   ]\n",
      " [ 0.     0.     0.     0.     0.     0.     0.     0.     0.     0.316  0.   ]\n",
      " [ 0.     0.     0.     0.     0.     0.     0.     0.     0.     0.     0.316]]\n",
      "[[ 0.316  0.     0.     0.     0.     0.     0.    -0.316 -0.316  0.     0.   ]\n",
      " [ 0.     0.447  0.     0.     0.     0.     0.    -0.447  0.     0.     0.   ]\n",
      " [ 0.     0.     0.447  0.     0.     0.    -0.447  0.     0.     0.     0.   ]\n",
      " [ 0.     0.     0.     0.316  0.    -0.316 -0.316  0.     0.     0.     0.   ]\n",
      " [ 0.     0.     0.     0.     0.224  0.     0.     0.     0.    -0.224 -0.224]\n",
      " [ 0.     0.     0.     0.     0.     0.447  0.     0.     0.    -0.447  0.   ]\n",
      " [ 0.     0.     0.     0.     0.     0.     0.447  0.     0.     0.    -0.447]\n",
      " [ 0.     0.     0.     0.     0.     0.     0.     0.258  0.     0.     0.   ]\n",
      " [ 0.     0.     0.     0.     0.     0.     0.     0.     0.258  0.     0.   ]\n",
      " [ 0.     0.     0.     0.     0.     0.     0.     0.     0.     0.316  0.   ]\n",
      " [ 0.     0.     0.     0.     0.     0.     0.     0.     0.     0.     0.316]]\n"
     ]
    }
   ],
   "source": [
    "# Cholesky factor of precision coefficient matrix for edge values\n",
    "LInv = SInv @ TInv\n",
    "print(LInv.toarray().round(3))"
   ]
  },
  {
   "cell_type": "code",
   "execution_count": 461,
   "metadata": {},
   "outputs": [
    {
     "name": "stdout",
     "output_type": "stream",
     "text": [
      "[[3.162 0.    0.    0.    0.    0.    0.    3.873 3.873 0.    0.   ]\n",
      " [0.    2.236 0.    0.    0.    0.    0.    3.873 0.    0.    0.   ]\n",
      " [0.    0.    2.236 0.    0.    0.    2.236 0.    0.    0.    3.162]\n",
      " [0.    0.    0.    3.162 0.    2.236 2.236 0.    0.    3.162 3.162]\n",
      " [0.    0.    0.    0.    4.472 0.    0.    0.    0.    3.162 3.162]\n",
      " [0.    0.    0.    0.    0.    2.236 0.    0.    0.    3.162 0.   ]\n",
      " [0.    0.    0.    0.    0.    0.    2.236 0.    0.    0.    3.162]\n",
      " [0.    0.    0.    0.    0.    0.    0.    3.873 0.    0.    0.   ]\n",
      " [0.    0.    0.    0.    0.    0.    0.    0.    3.873 0.    0.   ]\n",
      " [0.    0.    0.    0.    0.    0.    0.    0.    0.    3.162 0.   ]\n",
      " [0.    0.    0.    0.    0.    0.    0.    0.    0.    0.    3.162]]\n",
      "[[3.162 0.    0.    0.    0.    0.    0.    3.873 3.873 0.    0.   ]\n",
      " [0.    2.236 0.    0.    0.    0.    0.    3.873 0.    0.    0.   ]\n",
      " [0.    0.    2.236 0.    0.    0.    2.236 0.    0.    0.    3.162]\n",
      " [0.    0.    0.    3.162 0.    2.236 2.236 0.    0.    3.162 3.162]\n",
      " [0.    0.    0.    0.    4.472 0.    0.    0.    0.    3.162 3.162]\n",
      " [0.    0.    0.    0.    0.    2.236 0.    0.    0.    3.162 0.   ]\n",
      " [0.    0.    0.    0.    0.    0.    2.236 0.    0.    0.    3.162]\n",
      " [0.    0.    0.    0.    0.    0.    0.    3.873 0.    0.    0.   ]\n",
      " [0.    0.    0.    0.    0.    0.    0.    0.    3.873 0.    0.   ]\n",
      " [0.    0.    0.    0.    0.    0.    0.    0.    0.    3.162 0.   ]\n",
      " [0.    0.    0.    0.    0.    0.    0.    0.    0.    0.    3.162]]\n"
     ]
    }
   ],
   "source": [
    "# Cholesky factor of covariance coefficient matrix for edge values\n",
    "L = np.linalg.inv(LInv.toarray())\n",
    "print(L.round(3))\n",
    "# print((T @ S).round(3))"
   ]
  },
  {
   "cell_type": "code",
   "execution_count": 462,
   "metadata": {},
   "outputs": [
    {
     "name": "stdout",
     "output_type": "stream",
     "text": [
      "[[ 0.1    0.     0.     0.     0.     0.     0.    -0.1   -0.1    0.     0.   ]\n",
      " [ 0.     0.2    0.     0.     0.     0.     0.    -0.2    0.     0.     0.   ]\n",
      " [ 0.     0.     0.2    0.     0.     0.    -0.2    0.     0.     0.     0.   ]\n",
      " [ 0.     0.     0.     0.1    0.    -0.1   -0.1    0.     0.     0.     0.   ]\n",
      " [ 0.     0.     0.     0.     0.05   0.     0.     0.     0.    -0.05  -0.05 ]\n",
      " [ 0.     0.     0.    -0.1    0.     0.3    0.1    0.     0.    -0.2    0.   ]\n",
      " [ 0.     0.    -0.2   -0.1    0.     0.1    0.5    0.     0.     0.    -0.2  ]\n",
      " [-0.1   -0.2    0.     0.     0.     0.     0.     0.367  0.1    0.     0.   ]\n",
      " [-0.1    0.     0.     0.     0.     0.     0.     0.1    0.167  0.     0.   ]\n",
      " [ 0.     0.     0.     0.    -0.05  -0.2    0.     0.     0.     0.35   0.05 ]\n",
      " [ 0.     0.     0.     0.    -0.05   0.    -0.2    0.     0.     0.05   0.35 ]]\n",
      "[[ 0.1    0.     0.     0.     0.     0.     0.    -0.1   -0.1    0.     0.   ]\n",
      " [ 0.     0.2    0.     0.     0.     0.     0.    -0.2    0.     0.     0.   ]\n",
      " [ 0.     0.     0.2    0.     0.     0.    -0.2    0.     0.     0.     0.   ]\n",
      " [ 0.     0.     0.     0.1    0.    -0.1   -0.1    0.     0.     0.     0.   ]\n",
      " [ 0.     0.     0.     0.     0.05   0.     0.     0.     0.    -0.05  -0.05 ]\n",
      " [ 0.     0.     0.    -0.1    0.     0.3    0.1    0.     0.    -0.2    0.   ]\n",
      " [ 0.     0.    -0.2   -0.1    0.     0.1    0.5    0.     0.     0.    -0.2  ]\n",
      " [-0.1   -0.2    0.     0.     0.     0.     0.     0.367  0.1    0.     0.   ]\n",
      " [-0.1    0.     0.     0.     0.     0.     0.     0.1    0.167  0.     0.   ]\n",
      " [ 0.     0.     0.     0.    -0.05  -0.2    0.     0.     0.     0.35   0.05 ]\n",
      " [ 0.     0.     0.     0.    -0.05   0.    -0.2    0.     0.     0.05   0.35 ]]\n"
     ]
    }
   ],
   "source": [
    "# Precision coefficient matrix for edge values\n",
    "Qr = LInv.T @ LInv\n",
    "print(Qr.toarray().round(3))\n",
    "# See below for print((Qr.toarray() / sigma2u).round(3))"
   ]
  },
  {
   "cell_type": "code",
   "execution_count": 463,
   "metadata": {},
   "outputs": [
    {
     "name": "stdout",
     "output_type": "stream",
     "text": [
      "[[40. 15.  0.  0.  0.  0.  0. 15. 15.  0.  0.]\n",
      " [15. 20.  0.  0.  0.  0.  0. 15.  0.  0.  0.]\n",
      " [ 0.  0. 20. 15. 10.  0. 15.  0.  0.  0. 10.]\n",
      " [ 0.  0. 15. 40. 20. 15. 15.  0.  0. 10. 10.]\n",
      " [ 0.  0. 10. 20. 40. 10. 10.  0.  0. 10. 10.]\n",
      " [ 0.  0.  0. 15. 10. 15.  0.  0.  0. 10.  0.]\n",
      " [ 0.  0. 15. 15. 10.  0. 15.  0.  0.  0. 10.]\n",
      " [15. 15.  0.  0.  0.  0.  0. 15.  0.  0.  0.]\n",
      " [15.  0.  0.  0.  0.  0.  0.  0. 15.  0.  0.]\n",
      " [ 0.  0.  0. 10. 10. 10.  0.  0.  0. 10.  0.]\n",
      " [ 0.  0. 10. 10. 10.  0. 10.  0.  0.  0. 10.]]\n",
      "Check\n",
      "[[40. 15.  0.  0.  0.  0.  0. 15. 15.  0.  0.]\n",
      " [15. 20.  0.  0.  0.  0.  0. 15.  0.  0.  0.]\n",
      " [ 0.  0. 20. 15. 10. -0. 15.  0.  0. -0. 10.]\n",
      " [ 0.  0. 15. 40. 20. 15. 15.  0.  0. 10. 10.]\n",
      " [ 0.  0. 10. 20. 40. 10. 10.  0.  0. 10. 10.]\n",
      " [ 0.  0. -0. 15. 10. 15. -0.  0.  0. 10. -0.]\n",
      " [ 0.  0. 15. 15. 10. -0. 15.  0.  0. -0. 10.]\n",
      " [15. 15.  0.  0.  0.  0.  0. 15.  0.  0.  0.]\n",
      " [15.  0.  0.  0.  0.  0.  0.  0. 15.  0.  0.]\n",
      " [ 0.  0. -0. 10. 10. 10. -0.  0.  0. 10. -0.]\n",
      " [ 0.  0. 10. 10. 10. -0. 10.  0.  0. -0. 10.]]\n",
      "[[40. 15.  0.  0.  0.  0.  0. 15. 15.  0.  0.]\n",
      " [15. 20.  0.  0.  0.  0.  0. 15.  0.  0.  0.]\n",
      " [ 0.  0. 20. 15. 10.  0. 15.  0.  0.  0. 10.]\n",
      " [ 0.  0. 15. 40. 20. 15. 15.  0.  0. 10. 10.]\n",
      " [ 0.  0. 10. 20. 40. 10. 10.  0.  0. 10. 10.]\n",
      " [ 0.  0.  0. 15. 10. 15.  0.  0.  0. 10.  0.]\n",
      " [ 0.  0. 15. 15. 10.  0. 15.  0.  0.  0. 10.]\n",
      " [15. 15.  0.  0.  0.  0.  0. 15.  0.  0.  0.]\n",
      " [15.  0.  0.  0.  0.  0.  0.  0. 15.  0.  0.]\n",
      " [ 0.  0.  0. 10. 10. 10.  0.  0.  0. 10.  0.]\n",
      " [ 0.  0. 10. 10. 10.  0. 10.  0.  0.  0. 10.]]\n",
      "Check\n",
      "[[40. 15.  0.  0.  0.  0.  0. 15. 15.  0.  0.]\n",
      " [15. 20.  0.  0.  0.  0.  0. 15.  0.  0.  0.]\n",
      " [ 0.  0. 20. 15. 10. -0. 15.  0.  0. -0. 10.]\n",
      " [ 0.  0. 15. 40. 20. 15. 15.  0.  0. 10. 10.]\n",
      " [ 0.  0. 10. 20. 40. 10. 10.  0.  0. 10. 10.]\n",
      " [ 0.  0. -0. 15. 10. 15. -0.  0.  0. 10. -0.]\n",
      " [ 0.  0. 15. 15. 10. -0. 15.  0.  0. -0. 10.]\n",
      " [15. 15.  0.  0.  0.  0.  0. 15.  0.  0.  0.]\n",
      " [15.  0.  0.  0.  0.  0.  0.  0. 15.  0.  0.]\n",
      " [ 0.  0. -0. 10. 10. 10. -0.  0.  0. 10. -0.]\n",
      " [ 0.  0. 10. 10. 10. -0. 10.  0.  0. -0. 10.]]\n"
     ]
    }
   ],
   "source": [
    "# Covariance coefficient matrix for edge values\n",
    "Cr = L @ L.T\n",
    "print(Cr.round(3))\n",
    "print(\"Check\")\n",
    "Cr = np.linalg.inv(Qr.toarray())\n",
    "print(Cr.round(3))\n",
    "# See below for print((Cr / sigma2u).round(3))"
   ]
  },
  {
   "cell_type": "code",
   "execution_count": 464,
   "metadata": {},
   "outputs": [
    {
     "name": "stdout",
     "output_type": "stream",
     "text": [
      "Node-edge design matrix\n",
      "  (0, 0)\t1.0\n",
      "  (1, 1)\t1.0\n",
      "  (1, 2)\t1.0\n",
      "  (2, 3)\t1.0\n",
      "  (3, 4)\t1.0\n",
      "  (5, 5)\t1.0\n",
      "  (5, 6)\t1.0\n",
      "  (4, 7)\t1.0\n",
      "  (4, 8)\t1.0\n",
      "  (6, 9)\t1.0\n",
      "  (6, 10)\t1.0\n",
      "Covariance coefficient matrix for node values\n",
      "[[40. 15.  0.  0. 30.  0.  0.  0.]\n",
      " [15. 40. 15. 10. 15. 15. 10.  0.]\n",
      " [ 0. 15. 40. 20.  0. 30. 20.  0.]\n",
      " [ 0. 10. 20. 40.  0. 20. 20.  0.]\n",
      " [30. 15.  0.  0. 30.  0.  0.  0.]\n",
      " [ 0. 15. 30. 20.  0. 30. 20.  0.]\n",
      " [ 0. 10. 20. 20.  0. 20. 20.  0.]\n",
      " [ 0.  0.  0.  0.  0.  0.  0.  0.]]\n",
      "Node-edge design matrix\n",
      "  (0, 0)\t1.0\n",
      "  (1, 1)\t1.0\n",
      "  (1, 2)\t1.0\n",
      "  (2, 3)\t1.0\n",
      "  (3, 4)\t1.0\n",
      "  (5, 5)\t1.0\n",
      "  (5, 6)\t1.0\n",
      "  (4, 7)\t1.0\n",
      "  (4, 8)\t1.0\n",
      "  (6, 9)\t1.0\n",
      "  (6, 10)\t1.0\n",
      "Covariance coefficient matrix for node values\n",
      "[[40. 15.  0.  0. 30.  0.  0.  0.]\n",
      " [15. 40. 15. 10. 15. 15. 10.  0.]\n",
      " [ 0. 15. 40. 20.  0. 30. 20.  0.]\n",
      " [ 0. 10. 20. 40.  0. 20. 20.  0.]\n",
      " [30. 15.  0.  0. 30.  0.  0.  0.]\n",
      " [ 0. 15. 30. 20.  0. 30. 20.  0.]\n",
      " [ 0. 10. 20. 20.  0. 20. 20.  0.]\n",
      " [ 0.  0.  0.  0.  0.  0.  0.  0.]]\n"
     ]
    }
   ],
   "source": [
    "# Covariance coefficient matrix for node values\n",
    "print(\"Node-edge design matrix\")\n",
    "N = matrices.edge_child_matrix(ts).T\n",
    "print(N)\n",
    "\n",
    "print(\"Covariance coefficient matrix for node values\")\n",
    "Cn = N @ Cr @ N.T\n",
    "print(Cn.round(3))\n",
    "# See below for print((Cn * sigma2u).round(3))\n",
    "# The last row and column are full of 0s because the last node is the root"
   ]
  },
  {
   "cell_type": "code",
   "execution_count": 465,
   "metadata": {},
   "outputs": [
    {
     "name": "stdout",
     "output_type": "stream",
     "text": [
      "[[ 0.1   -0.     0.    -0.    -0.1    0.     0.   ]\n",
      " [-0.     0.04  -0.     0.    -0.02  -0.02   0.   ]\n",
      " [-0.    -0.     0.1    0.     0.    -0.1   -0.   ]\n",
      " [-0.     0.    -0.     0.05  -0.     0.    -0.05 ]\n",
      " [-0.1   -0.02  -0.    -0.     0.143  0.01  -0.   ]\n",
      " [-0.    -0.02  -0.1   -0.     0.01   0.21  -0.1  ]\n",
      " [ 0.     0.    -0.    -0.05   0.    -0.1    0.2  ]]\n",
      "[[ 0.1   -0.     0.    -0.    -0.1    0.     0.   ]\n",
      " [-0.     0.04  -0.     0.    -0.02  -0.02   0.   ]\n",
      " [-0.    -0.     0.1    0.     0.    -0.1   -0.   ]\n",
      " [-0.     0.    -0.     0.05  -0.     0.    -0.05 ]\n",
      " [-0.1   -0.02  -0.    -0.     0.143  0.01  -0.   ]\n",
      " [-0.    -0.02  -0.1   -0.     0.01   0.21  -0.1  ]\n",
      " [ 0.     0.    -0.    -0.05   0.    -0.1    0.2  ]]\n"
     ]
    }
   ],
   "source": [
    "# Precision coefficient matrix for node values\n",
    "Qn = np.linalg.inv(Cn[0:(ts.num_nodes - 1), 0:(ts.num_nodes - 1)])\n",
    "print(Qn.round(3))\n",
    "# See below for print((Qn / sigma2u).round(3))"
   ]
  },
  {
   "cell_type": "code",
   "execution_count": 466,
   "metadata": {},
   "outputs": [
    {
     "name": "stdout",
     "output_type": "stream",
     "text": [
      "[[110.  25.]\n",
      " [ 25. 120.]]\n",
      "[[110.  25.]\n",
      " [ 25. 120.]]\n"
     ]
    }
   ],
   "source": [
    "# Covariance coefficient matrix for genetic values\n",
    "Cg = W @ Cr @ W.T\n",
    "print(Cg.round(3))\n",
    "# See below for print((Cg * sigma2u).round(3))"
   ]
  },
  {
   "cell_type": "code",
   "execution_count": 467,
   "metadata": {},
   "outputs": [
    {
     "name": "stdout",
     "output_type": "stream",
     "text": [
      "[[ 0.01  -0.002]\n",
      " [-0.002  0.009]]\n",
      "[[ 0.01  -0.002]\n",
      " [-0.002  0.009]]\n"
     ]
    }
   ],
   "source": [
    "# Precision coefficient matrix for genetic values\n",
    "Qg = np.linalg.inv(Cg)\n",
    "print(Qg.round(3))\n",
    "# See below for print((Qg / sigma2u).round(3))"
   ]
  },
  {
   "cell_type": "code",
   "execution_count": 468,
   "metadata": {},
   "outputs": [
    {
     "name": "stdout",
     "output_type": "stream",
     "text": [
      "Cus - covariance matrix for edge effects per unit area\n",
      "[[0.001 0.    0.    0.    0.    0.    0.    0.    0.    0.    0.   ]\n",
      " [0.    0.001 0.    0.    0.    0.    0.    0.    0.    0.    0.   ]\n",
      " [0.    0.    0.001 0.    0.    0.    0.    0.    0.    0.    0.   ]\n",
      " [0.    0.    0.    0.001 0.    0.    0.    0.    0.    0.    0.   ]\n",
      " [0.    0.    0.    0.    0.001 0.    0.    0.    0.    0.    0.   ]\n",
      " [0.    0.    0.    0.    0.    0.001 0.    0.    0.    0.    0.   ]\n",
      " [0.    0.    0.    0.    0.    0.    0.001 0.    0.    0.    0.   ]\n",
      " [0.    0.    0.    0.    0.    0.    0.    0.001 0.    0.    0.   ]\n",
      " [0.    0.    0.    0.    0.    0.    0.    0.    0.001 0.    0.   ]\n",
      " [0.    0.    0.    0.    0.    0.    0.    0.    0.    0.001 0.   ]\n",
      " [0.    0.    0.    0.    0.    0.    0.    0.    0.    0.    0.001]]\n",
      "Qus - precision matrix for edge effects per unit area\n",
      "[[1000.    0.    0.    0.    0.    0.    0.    0.    0.    0.    0.]\n",
      " [   0. 1000.    0.    0.    0.    0.    0.    0.    0.    0.    0.]\n",
      " [   0.    0. 1000.    0.    0.    0.    0.    0.    0.    0.    0.]\n",
      " [   0.    0.    0. 1000.    0.    0.    0.    0.    0.    0.    0.]\n",
      " [   0.    0.    0.    0. 1000.    0.    0.    0.    0.    0.    0.]\n",
      " [   0.    0.    0.    0.    0. 1000.    0.    0.    0.    0.    0.]\n",
      " [   0.    0.    0.    0.    0.    0. 1000.    0.    0.    0.    0.]\n",
      " [   0.    0.    0.    0.    0.    0.    0. 1000.    0.    0.    0.]\n",
      " [   0.    0.    0.    0.    0.    0.    0.    0. 1000.    0.    0.]\n",
      " [   0.    0.    0.    0.    0.    0.    0.    0.    0. 1000.    0.]\n",
      " [   0.    0.    0.    0.    0.    0.    0.    0.    0.    0. 1000.]]\n",
      "Cus - covariance matrix for edge effects per unit area\n",
      "[[0.001 0.    0.    0.    0.    0.    0.    0.    0.    0.    0.   ]\n",
      " [0.    0.001 0.    0.    0.    0.    0.    0.    0.    0.    0.   ]\n",
      " [0.    0.    0.001 0.    0.    0.    0.    0.    0.    0.    0.   ]\n",
      " [0.    0.    0.    0.001 0.    0.    0.    0.    0.    0.    0.   ]\n",
      " [0.    0.    0.    0.    0.001 0.    0.    0.    0.    0.    0.   ]\n",
      " [0.    0.    0.    0.    0.    0.001 0.    0.    0.    0.    0.   ]\n",
      " [0.    0.    0.    0.    0.    0.    0.001 0.    0.    0.    0.   ]\n",
      " [0.    0.    0.    0.    0.    0.    0.    0.001 0.    0.    0.   ]\n",
      " [0.    0.    0.    0.    0.    0.    0.    0.    0.001 0.    0.   ]\n",
      " [0.    0.    0.    0.    0.    0.    0.    0.    0.    0.001 0.   ]\n",
      " [0.    0.    0.    0.    0.    0.    0.    0.    0.    0.    0.001]]\n",
      "Qus - precision matrix for edge effects per unit area\n",
      "[[1000.    0.    0.    0.    0.    0.    0.    0.    0.    0.    0.]\n",
      " [   0. 1000.    0.    0.    0.    0.    0.    0.    0.    0.    0.]\n",
      " [   0.    0. 1000.    0.    0.    0.    0.    0.    0.    0.    0.]\n",
      " [   0.    0.    0. 1000.    0.    0.    0.    0.    0.    0.    0.]\n",
      " [   0.    0.    0.    0. 1000.    0.    0.    0.    0.    0.    0.]\n",
      " [   0.    0.    0.    0.    0. 1000.    0.    0.    0.    0.    0.]\n",
      " [   0.    0.    0.    0.    0.    0. 1000.    0.    0.    0.    0.]\n",
      " [   0.    0.    0.    0.    0.    0.    0. 1000.    0.    0.    0.]\n",
      " [   0.    0.    0.    0.    0.    0.    0.    0. 1000.    0.    0.]\n",
      " [   0.    0.    0.    0.    0.    0.    0.    0.    0. 1000.    0.]\n",
      " [   0.    0.    0.    0.    0.    0.    0.    0.    0.    0. 1000.]]\n"
     ]
    }
   ],
   "source": [
    "# Covariance and precision coefficient matrices multipled by sigma2u\n",
    "\n",
    "sigma2u = 0.001\n",
    "\n",
    "print(\"Cus - covariance matrix for edge effects per unit area\")\n",
    "print((Cus * sigma2u).round(3))\n",
    "print(\"Qus - precision matrix for edge effects per unit area\")\n",
    "print((Qus.toarray() / sigma2u).round(3))"
   ]
  },
  {
   "cell_type": "code",
   "execution_count": 469,
   "metadata": {},
   "outputs": [
    {
     "name": "stdout",
     "output_type": "stream",
     "text": [
      "Cu - covariance matrix for edge effects\n",
      "[[0.01  0.    0.    0.    0.    0.    0.    0.    0.    0.    0.   ]\n",
      " [0.    0.005 0.    0.    0.    0.    0.    0.    0.    0.    0.   ]\n",
      " [0.    0.    0.005 0.    0.    0.    0.    0.    0.    0.    0.   ]\n",
      " [0.    0.    0.    0.01  0.    0.    0.    0.    0.    0.    0.   ]\n",
      " [0.    0.    0.    0.    0.02  0.    0.    0.    0.    0.    0.   ]\n",
      " [0.    0.    0.    0.    0.    0.005 0.    0.    0.    0.    0.   ]\n",
      " [0.    0.    0.    0.    0.    0.    0.005 0.    0.    0.    0.   ]\n",
      " [0.    0.    0.    0.    0.    0.    0.    0.015 0.    0.    0.   ]\n",
      " [0.    0.    0.    0.    0.    0.    0.    0.    0.015 0.    0.   ]\n",
      " [0.    0.    0.    0.    0.    0.    0.    0.    0.    0.01  0.   ]\n",
      " [0.    0.    0.    0.    0.    0.    0.    0.    0.    0.    0.01 ]]\n",
      "Qu - precision matrix for edge effects\n",
      "[[100.      0.      0.      0.      0.      0.      0.      0.      0.      0.      0.   ]\n",
      " [  0.    200.      0.      0.      0.      0.      0.      0.      0.      0.      0.   ]\n",
      " [  0.      0.    200.      0.      0.      0.      0.      0.      0.      0.      0.   ]\n",
      " [  0.      0.      0.    100.      0.      0.      0.      0.      0.      0.      0.   ]\n",
      " [  0.      0.      0.      0.     50.      0.      0.      0.      0.      0.      0.   ]\n",
      " [  0.      0.      0.      0.      0.    200.      0.      0.      0.      0.      0.   ]\n",
      " [  0.      0.      0.      0.      0.      0.    200.      0.      0.      0.      0.   ]\n",
      " [  0.      0.      0.      0.      0.      0.      0.     66.667   0.      0.      0.   ]\n",
      " [  0.      0.      0.      0.      0.      0.      0.      0.     66.667   0.      0.   ]\n",
      " [  0.      0.      0.      0.      0.      0.      0.      0.      0.    100.      0.   ]\n",
      " [  0.      0.      0.      0.      0.      0.      0.      0.      0.      0.    100.   ]]\n",
      "Cu - covariance matrix for edge effects\n",
      "[[0.01  0.    0.    0.    0.    0.    0.    0.    0.    0.    0.   ]\n",
      " [0.    0.005 0.    0.    0.    0.    0.    0.    0.    0.    0.   ]\n",
      " [0.    0.    0.005 0.    0.    0.    0.    0.    0.    0.    0.   ]\n",
      " [0.    0.    0.    0.01  0.    0.    0.    0.    0.    0.    0.   ]\n",
      " [0.    0.    0.    0.    0.02  0.    0.    0.    0.    0.    0.   ]\n",
      " [0.    0.    0.    0.    0.    0.005 0.    0.    0.    0.    0.   ]\n",
      " [0.    0.    0.    0.    0.    0.    0.005 0.    0.    0.    0.   ]\n",
      " [0.    0.    0.    0.    0.    0.    0.    0.015 0.    0.    0.   ]\n",
      " [0.    0.    0.    0.    0.    0.    0.    0.    0.015 0.    0.   ]\n",
      " [0.    0.    0.    0.    0.    0.    0.    0.    0.    0.01  0.   ]\n",
      " [0.    0.    0.    0.    0.    0.    0.    0.    0.    0.    0.01 ]]\n",
      "Qu - precision matrix for edge effects\n",
      "[[100.      0.      0.      0.      0.      0.      0.      0.      0.      0.      0.   ]\n",
      " [  0.    200.      0.      0.      0.      0.      0.      0.      0.      0.      0.   ]\n",
      " [  0.      0.    200.      0.      0.      0.      0.      0.      0.      0.      0.   ]\n",
      " [  0.      0.      0.    100.      0.      0.      0.      0.      0.      0.      0.   ]\n",
      " [  0.      0.      0.      0.     50.      0.      0.      0.      0.      0.      0.   ]\n",
      " [  0.      0.      0.      0.      0.    200.      0.      0.      0.      0.      0.   ]\n",
      " [  0.      0.      0.      0.      0.      0.    200.      0.      0.      0.      0.   ]\n",
      " [  0.      0.      0.      0.      0.      0.      0.     66.667   0.      0.      0.   ]\n",
      " [  0.      0.      0.      0.      0.      0.      0.      0.     66.667   0.      0.   ]\n",
      " [  0.      0.      0.      0.      0.      0.      0.      0.      0.    100.      0.   ]\n",
      " [  0.      0.      0.      0.      0.      0.      0.      0.      0.      0.    100.   ]]\n"
     ]
    }
   ],
   "source": [
    "\n",
    "print(\"Cu - covariance matrix for edge effects\")\n",
    "print((Cu * sigma2u).round(3))\n",
    "print(\"Qu - precision matrix for edge effects\")\n",
    "print((Qu.toarray() / sigma2u).round(3))"
   ]
  },
  {
   "cell_type": "code",
   "execution_count": 470,
   "metadata": {},
   "outputs": [
    {
     "name": "stdout",
     "output_type": "stream",
     "text": [
      "Cr - covariance matrix for edge values\n",
      "[[ 0.04   0.015  0.     0.     0.     0.     0.     0.015  0.015  0.     0.   ]\n",
      " [ 0.015  0.02   0.     0.     0.     0.     0.     0.015  0.     0.     0.   ]\n",
      " [ 0.     0.     0.02   0.015  0.01  -0.     0.015  0.     0.    -0.     0.01 ]\n",
      " [ 0.     0.     0.015  0.04   0.02   0.015  0.015  0.     0.     0.01   0.01 ]\n",
      " [ 0.     0.     0.01   0.02   0.04   0.01   0.01   0.     0.     0.01   0.01 ]\n",
      " [ 0.     0.    -0.     0.015  0.01   0.015 -0.     0.     0.     0.01  -0.   ]\n",
      " [ 0.     0.     0.015  0.015  0.01  -0.     0.015  0.     0.    -0.     0.01 ]\n",
      " [ 0.015  0.015  0.     0.     0.     0.     0.     0.015  0.     0.     0.   ]\n",
      " [ 0.015  0.     0.     0.     0.     0.     0.     0.     0.015  0.     0.   ]\n",
      " [ 0.     0.    -0.     0.01   0.01   0.01  -0.     0.     0.     0.01  -0.   ]\n",
      " [ 0.     0.     0.01   0.01   0.01  -0.     0.01   0.     0.    -0.     0.01 ]]\n",
      "Qr - precision matrix for edge values\n",
      "[[ 100.       0.       0.       0.       0.       0.       0.    -100.    -100.       0.       0.   ]\n",
      " [   0.     200.       0.       0.       0.       0.       0.    -200.       0.       0.       0.   ]\n",
      " [   0.       0.     200.       0.       0.       0.    -200.       0.       0.       0.       0.   ]\n",
      " [   0.       0.       0.     100.       0.    -100.    -100.       0.       0.       0.       0.   ]\n",
      " [   0.       0.       0.       0.      50.       0.       0.       0.       0.     -50.     -50.   ]\n",
      " [   0.       0.       0.    -100.       0.     300.     100.       0.       0.    -200.       0.   ]\n",
      " [   0.       0.    -200.    -100.       0.     100.     500.       0.       0.       0.    -200.   ]\n",
      " [-100.    -200.       0.       0.       0.       0.       0.     366.667  100.       0.       0.   ]\n",
      " [-100.       0.       0.       0.       0.       0.       0.     100.     166.667    0.       0.   ]\n",
      " [   0.       0.       0.       0.     -50.    -200.       0.       0.       0.     350.      50.   ]\n",
      " [   0.       0.       0.       0.     -50.       0.    -200.       0.       0.      50.     350.   ]]\n",
      "Cr - covariance matrix for edge values\n",
      "[[ 0.04   0.015  0.     0.     0.     0.     0.     0.015  0.015  0.     0.   ]\n",
      " [ 0.015  0.02   0.     0.     0.     0.     0.     0.015  0.     0.     0.   ]\n",
      " [ 0.     0.     0.02   0.015  0.01  -0.     0.015  0.     0.    -0.     0.01 ]\n",
      " [ 0.     0.     0.015  0.04   0.02   0.015  0.015  0.     0.     0.01   0.01 ]\n",
      " [ 0.     0.     0.01   0.02   0.04   0.01   0.01   0.     0.     0.01   0.01 ]\n",
      " [ 0.     0.    -0.     0.015  0.01   0.015 -0.     0.     0.     0.01  -0.   ]\n",
      " [ 0.     0.     0.015  0.015  0.01  -0.     0.015  0.     0.    -0.     0.01 ]\n",
      " [ 0.015  0.015  0.     0.     0.     0.     0.     0.015  0.     0.     0.   ]\n",
      " [ 0.015  0.     0.     0.     0.     0.     0.     0.     0.015  0.     0.   ]\n",
      " [ 0.     0.    -0.     0.01   0.01   0.01  -0.     0.     0.     0.01  -0.   ]\n",
      " [ 0.     0.     0.01   0.01   0.01  -0.     0.01   0.     0.    -0.     0.01 ]]\n",
      "Qr - precision matrix for edge values\n",
      "[[ 100.       0.       0.       0.       0.       0.       0.    -100.    -100.       0.       0.   ]\n",
      " [   0.     200.       0.       0.       0.       0.       0.    -200.       0.       0.       0.   ]\n",
      " [   0.       0.     200.       0.       0.       0.    -200.       0.       0.       0.       0.   ]\n",
      " [   0.       0.       0.     100.       0.    -100.    -100.       0.       0.       0.       0.   ]\n",
      " [   0.       0.       0.       0.      50.       0.       0.       0.       0.     -50.     -50.   ]\n",
      " [   0.       0.       0.    -100.       0.     300.     100.       0.       0.    -200.       0.   ]\n",
      " [   0.       0.    -200.    -100.       0.     100.     500.       0.       0.       0.    -200.   ]\n",
      " [-100.    -200.       0.       0.       0.       0.       0.     366.667  100.       0.       0.   ]\n",
      " [-100.       0.       0.       0.       0.       0.       0.     100.     166.667    0.       0.   ]\n",
      " [   0.       0.       0.       0.     -50.    -200.       0.       0.       0.     350.      50.   ]\n",
      " [   0.       0.       0.       0.     -50.       0.    -200.       0.       0.      50.     350.   ]]\n"
     ]
    }
   ],
   "source": [
    "print(\"Cr - covariance matrix for edge values\")\n",
    "print((Cr * sigma2u).round(3))\n",
    "print(\"Qr - precision matrix for edge values\")\n",
    "print((Qr.toarray() / sigma2u).round(3))"
   ]
  },
  {
   "cell_type": "code",
   "execution_count": 471,
   "metadata": {},
   "outputs": [
    {
     "name": "stdout",
     "output_type": "stream",
     "text": [
      "Cr - covariance matrix for node values\n",
      "[[0.04  0.015 0.    0.    0.03  0.    0.    0.   ]\n",
      " [0.015 0.04  0.015 0.01  0.015 0.015 0.01  0.   ]\n",
      " [0.    0.015 0.04  0.02  0.    0.03  0.02  0.   ]\n",
      " [0.    0.01  0.02  0.04  0.    0.02  0.02  0.   ]\n",
      " [0.03  0.015 0.    0.    0.03  0.    0.    0.   ]\n",
      " [0.    0.015 0.03  0.02  0.    0.03  0.02  0.   ]\n",
      " [0.    0.01  0.02  0.02  0.    0.02  0.02  0.   ]\n",
      " [0.    0.    0.    0.    0.    0.    0.    0.   ]]\n",
      "Qr - precision matrix for node values\n",
      "[[ 100.      -0.       0.      -0.    -100.       0.       0.   ]\n",
      " [  -0.      40.      -0.       0.     -20.     -20.       0.   ]\n",
      " [  -0.      -0.     100.       0.       0.    -100.      -0.   ]\n",
      " [  -0.       0.      -0.      50.      -0.       0.     -50.   ]\n",
      " [-100.     -20.      -0.      -0.     143.333   10.      -0.   ]\n",
      " [  -0.     -20.    -100.      -0.      10.     210.    -100.   ]\n",
      " [   0.       0.      -0.     -50.       0.    -100.     200.   ]]\n",
      "Cr - covariance matrix for node values\n",
      "[[0.04  0.015 0.    0.    0.03  0.    0.    0.   ]\n",
      " [0.015 0.04  0.015 0.01  0.015 0.015 0.01  0.   ]\n",
      " [0.    0.015 0.04  0.02  0.    0.03  0.02  0.   ]\n",
      " [0.    0.01  0.02  0.04  0.    0.02  0.02  0.   ]\n",
      " [0.03  0.015 0.    0.    0.03  0.    0.    0.   ]\n",
      " [0.    0.015 0.03  0.02  0.    0.03  0.02  0.   ]\n",
      " [0.    0.01  0.02  0.02  0.    0.02  0.02  0.   ]\n",
      " [0.    0.    0.    0.    0.    0.    0.    0.   ]]\n",
      "Qr - precision matrix for node values\n",
      "[[ 100.      -0.       0.      -0.    -100.       0.       0.   ]\n",
      " [  -0.      40.      -0.       0.     -20.     -20.       0.   ]\n",
      " [  -0.      -0.     100.       0.       0.    -100.      -0.   ]\n",
      " [  -0.       0.      -0.      50.      -0.       0.     -50.   ]\n",
      " [-100.     -20.      -0.      -0.     143.333   10.      -0.   ]\n",
      " [  -0.     -20.    -100.      -0.      10.     210.    -100.   ]\n",
      " [   0.       0.      -0.     -50.       0.    -100.     200.   ]]\n"
     ]
    }
   ],
   "source": [
    "print(\"Cr - covariance matrix for node values\")\n",
    "print((Cn * sigma2u).round(3))\n",
    "print(\"Qr - precision matrix for node values\")\n",
    "print((Qn / sigma2u).round(3))"
   ]
  },
  {
   "cell_type": "code",
   "execution_count": 472,
   "metadata": {},
   "outputs": [
    {
     "name": "stdout",
     "output_type": "stream",
     "text": [
      "Cr - covariance matrix for genetic values\n",
      "[[0.11  0.025]\n",
      " [0.025 0.12 ]]\n",
      "Qr - precision matrix for genetic values\n",
      "[[ 9.543 -1.988]\n",
      " [-1.988  8.748]]\n",
      "Cr - covariance matrix for genetic values\n",
      "[[0.11  0.025]\n",
      " [0.025 0.12 ]]\n",
      "Qr - precision matrix for genetic values\n",
      "[[ 9.543 -1.988]\n",
      " [-1.988  8.748]]\n"
     ]
    }
   ],
   "source": [
    "print(\"Cr - covariance matrix for genetic values\")\n",
    "print((Cg * sigma2u).round(3))\n",
    "print(\"Qr - precision matrix for genetic values\")\n",
    "print((Qg / sigma2u).round(3))"
   ]
  },
  {
   "cell_type": "markdown",
   "metadata": {},
   "source": [
    "# Simulate values"
   ]
  },
  {
   "cell_type": "code",
   "execution_count": 473,
   "metadata": {},
   "outputs": [
    {
     "name": "stdout",
     "output_type": "stream",
     "text": [
      "[ 0 -1  1  0  2  0 -1  2 -1  0 -1]\n",
      "[ 0 -1  1  0  2  0 -1  2 -1  0 -1]\n"
     ]
    }
   ],
   "source": [
    "\n",
    "edge_effects = np.random.normal(size = ts.num_edges,\n",
    "                                scale = np.sqrt(edge_areas * sigma2u)).round(3)\n",
    "# For this pedagogical demonstration we use large & simple values for edge effects\n",
    "# (you can swap with the above sampled edge effects instead)\n",
    "#                        0,  1, 2, 3, 4, 5,  6, 7,  8, 9, 10\n",
    "edge_effects = np.array([0, -1, 1, 0, 2, 0, -1, 2, -1, 0, -1])\n",
    "print(edge_effects) # u "
   ]
  },
  {
   "cell_type": "code",
   "execution_count": 474,
   "metadata": {},
   "outputs": [
    {
     "name": "stdout",
     "output_type": "stream",
     "text": [
      "[ 0.         -0.4472136   0.4472136   0.          0.4472136   0.         -0.4472136   0.51639778 -0.25819889\n",
      "  0.         -0.31622777]\n",
      "[ 0.         -0.4472136   0.4472136   0.          0.4472136   0.         -0.4472136   0.51639778 -0.25819889\n",
      "  0.         -0.31622777]\n"
     ]
    }
   ],
   "source": [
    "edge_effects_per_unit_area = edge_effects / np.sqrt(edge_areas)\n",
    "print(edge_effects_per_unit_area) # u*"
   ]
  },
  {
   "cell_type": "code",
   "execution_count": 475,
   "metadata": {},
   "outputs": [
    {
     "name": "stdout",
     "output_type": "stream",
     "text": [
      "[ 1.  1. -1. -2.  1.  0. -2.  2. -1.  0. -1.]\n",
      "[ 1.  1. -1. -2.  1.  0. -2.  2. -1.  0. -1.]\n"
     ]
    }
   ],
   "source": [
    "edge_values = T @ edge_effects # r = Tu\n",
    "print(edge_values)"
   ]
  },
  {
   "cell_type": "code",
   "execution_count": 476,
   "metadata": {},
   "outputs": [
    {
     "name": "stdout",
     "output_type": "stream",
     "text": [
      "[ 1.  0. -2.  1.  1. -2. -1.  0.]\n",
      "[ 1.  0. -2.  1.  1. -2. -1.  0.]\n"
     ]
    }
   ],
   "source": [
    "node_values = N @ edge_values # n = Nr = NTu\n",
    "print(node_values)"
   ]
  },
  {
   "cell_type": "code",
   "execution_count": 477,
   "metadata": {},
   "outputs": [
    {
     "name": "stdout",
     "output_type": "stream",
     "text": [
      "[ 1. -1.]\n",
      "[ 1. -1.]\n"
     ]
    }
   ],
   "source": [
    "genetic_values = W @ edge_values # g = Wr = WTu (via edge values - canonical approach)\n",
    "print(genetic_values)"
   ]
  },
  {
   "cell_type": "code",
   "execution_count": 478,
   "metadata": {},
   "outputs": [
    {
     "name": "stdout",
     "output_type": "stream",
     "text": [
      "Node-individual design matrix\n",
      "  (0, 0)\t1.0\n",
      "  (0, 1)\t1.0\n",
      "  (1, 2)\t1.0\n",
      "  (1, 3)\t1.0\n",
      "Genetic values\n",
      "[[ 1.  1.]\n",
      " [-1. -1.]]\n",
      "Node-individual design matrix\n",
      "  (0, 0)\t1.0\n",
      "  (0, 1)\t1.0\n",
      "  (1, 2)\t1.0\n",
      "  (1, 3)\t1.0\n",
      "Genetic values\n",
      "[[ 1.  1.]\n",
      " [-1. -1.]]\n"
     ]
    }
   ],
   "source": [
    "M = matrices.node_individual_matrix(ts).T\n",
    "print(\"Node-individual design matrix\")\n",
    "print(M)\n",
    "print(\"Genetic values\")\n",
    "genetic_values2 = M @ node_values # g = Mn = MNr = MNTu (via node values)\n",
    "print(np.column_stack((genetic_values, genetic_values2)))\n"
   ]
  },
  {
   "cell_type": "code",
   "execution_count": 479,
   "metadata": {},
   "outputs": [
    {
     "name": "stdout",
     "output_type": "stream",
     "text": [
      "[ 0.1 -0.1]\n",
      "[ 0.1 -0.1]\n"
     ]
    }
   ],
   "source": [
    "sigma2e = 1\n",
    "residuals = np.random.normal(size = ts.num_individuals,\n",
    "                             scale = np.sqrt(sigma2e)).round()\n",
    "# For this pedagogical demonstration we use small & simple values for residuals\n",
    "# (you can swap with the above sampled residuals instead)\n",
    "#                       0,    1\n",
    "residuals = np.array([0.1, -0.1])\n",
    "print(residuals)"
   ]
  },
  {
   "cell_type": "code",
   "execution_count": 480,
   "metadata": {},
   "outputs": [
    {
     "name": "stdout",
     "output_type": "stream",
     "text": [
      "[11.1  8.9]\n",
      "[11.1  8.9]\n"
     ]
    }
   ],
   "source": [
    "intercept = 10\n",
    "phenotype_values = intercept + genetic_values + residuals\n",
    "print(phenotype_values)"
   ]
  },
  {
   "cell_type": "markdown",
   "metadata": {},
   "source": [
    "# Estimate effects and values (using simple pedagogic approach)\n",
    "\n",
    "Throughout we assume we know variance components!"
   ]
  },
  {
   "cell_type": "code",
   "execution_count": 481,
   "metadata": {},
   "outputs": [
    {
     "name": "stdout",
     "output_type": "stream",
     "text": [
      "[[1.11  0.025]\n",
      " [0.025 1.12 ]]\n",
      "[[1.11  0.025]\n",
      " [0.025 1.12 ]]\n"
     ]
    }
   ],
   "source": [
    "# Phenotypic variance matrix\n",
    "Cy = Cg * sigma2u + np.eye(N = len(phenotype_values)) * sigma2e\n",
    "print(Cy)"
   ]
  },
  {
   "cell_type": "code",
   "execution_count": 482,
   "metadata": {},
   "outputs": [
    {
     "name": "stdout",
     "output_type": "stream",
     "text": [
      "[[ 0.90135404 -0.02011951]\n",
      " [-0.02011951  0.89330624]]\n",
      "[[ 0.90135404 -0.02011951]\n",
      " [-0.02011951  0.89330624]]\n"
     ]
    }
   ],
   "source": [
    "# Phenotypic precision matrix\n",
    "Qy = np.linalg.inv(Cy)\n",
    "print(Qy)"
   ]
  },
  {
   "cell_type": "code",
   "execution_count": 483,
   "metadata": {},
   "outputs": [
    {
     "name": "stdout",
     "output_type": "stream",
     "text": [
      "[[10. 10.]]\n",
      "[[10. 10.]]\n"
     ]
    }
   ],
   "source": [
    "# Best linear estimate of intercept\n",
    "intercept_hat = (X.T @ phenotype_values) / (X.T @ X)\n",
    "print(np.column_stack((intercept, intercept_hat)))"
   ]
  },
  {
   "cell_type": "code",
   "execution_count": 484,
   "metadata": {},
   "outputs": [
    {
     "name": "stdout",
     "output_type": "stream",
     "text": [
      "[[ 1.          0.08637909]\n",
      " [-1.         -0.09523168]]\n",
      "[[ 1.          0.08637909]\n",
      " [-1.         -0.09523168]]\n"
     ]
    }
   ],
   "source": [
    "# Best linear prediction of genetic values (g)\n",
    "# cov(g, (y = g + e)') inv(var(y)) (y - E(y))\n",
    "tmp = (np.linalg.inv(Cy) @ (phenotype_values - intercept_hat))\n",
    "# cov(g, g') ...\n",
    "genetic_values_hat = (Cg * sigma2u) @ tmp\n",
    "print(np.column_stack((genetic_values, genetic_values_hat)))"
   ]
  },
  {
   "cell_type": "code",
   "execution_count": 485,
   "metadata": {},
   "outputs": [
    {
     "name": "stdout",
     "output_type": "stream",
     "text": [
      "[[ 1.          0.05574915]\n",
      " [ 0.          0.03062994]\n",
      " [-2.         -0.04508179]\n",
      " [ 1.         -0.05014989]\n",
      " [ 1.          0.04561294]\n",
      " [-2.         -0.0350341 ]\n",
      " [-1.         -0.03005452]\n",
      " [ 0.          0.        ]]\n",
      "[[ 1.          0.05574915]\n",
      " [ 0.          0.03062994]\n",
      " [-2.         -0.04508179]\n",
      " [ 1.         -0.05014989]\n",
      " [ 1.          0.04561294]\n",
      " [-2.         -0.0350341 ]\n",
      " [-1.         -0.03005452]\n",
      " [ 0.          0.        ]]\n"
     ]
    }
   ],
   "source": [
    "# Best linear prediction of node values (n; g = Mn = MNr)\n",
    "# cov(n, (y = g + e)') inv(var(y)) (y - E(y))\n",
    "# cov(n, g' = nM') ...\n",
    "node_values_hat = (Cn @ M.T * sigma2u) @ tmp\n",
    "print(np.column_stack((node_values, node_values_hat)))"
   ]
  },
  {
   "cell_type": "code",
   "execution_count": 486,
   "metadata": {},
   "outputs": [
    {
     "name": "stdout",
     "output_type": "stream",
     "text": [
      "[[ 1.          0.05574915]\n",
      " [ 1.          0.03547673]\n",
      " [-1.         -0.00484679]\n",
      " [-2.         -0.04508179]\n",
      " [ 1.         -0.05014989]\n",
      " [ 0.         -0.02511921]\n",
      " [-2.         -0.00991489]\n",
      " [ 2.          0.03040863]\n",
      " [-1.          0.01520431]\n",
      " [ 0.         -0.02009537]\n",
      " [-1.         -0.00995916]]\n",
      "[[ 1.          0.05574915]\n",
      " [ 1.          0.03547673]\n",
      " [-1.         -0.00484679]\n",
      " [-2.         -0.04508179]\n",
      " [ 1.         -0.05014989]\n",
      " [ 0.         -0.02511921]\n",
      " [-2.         -0.00991489]\n",
      " [ 2.          0.03040863]\n",
      " [-1.          0.01520431]\n",
      " [ 0.         -0.02009537]\n",
      " [-1.         -0.00995916]]\n"
     ]
    }
   ],
   "source": [
    "# Best linear prediction of edge values (r; g = Wr)\n",
    "# cov(r, (y = g + e)') inv(var(y)) (y - E(y))\n",
    "# cov(r, g' = rW') ...\n",
    "edge_values_hat = (Cr @ W.T * sigma2u) @ tmp\n",
    "print(np.column_stack((edge_values, edge_values_hat)))"
   ]
  },
  {
   "cell_type": "code",
   "execution_count": 487,
   "metadata": {},
   "outputs": [
    {
     "name": "stdout",
     "output_type": "stream",
     "text": [
      "[[ 0.00000000e+00  1.01362091e-02]\n",
      " [-1.00000000e+00  5.06810454e-03]\n",
      " [ 1.00000000e+00  5.06810454e-03]\n",
      " [ 0.00000000e+00 -1.00476832e-02]\n",
      " [ 2.00000000e+00 -2.00953665e-02]\n",
      " [ 0.00000000e+00 -5.02384162e-03]\n",
      " [-1.00000000e+00  4.42629218e-05]\n",
      " [ 2.00000000e+00  3.04086272e-02]\n",
      " [-1.00000000e+00  1.52043136e-02]\n",
      " [ 0.00000000e+00 -2.00953665e-02]\n",
      " [-1.00000000e+00 -9.95915739e-03]]\n",
      "[[ 0.00000000e+00  1.01362091e-02]\n",
      " [-1.00000000e+00  5.06810454e-03]\n",
      " [ 1.00000000e+00  5.06810454e-03]\n",
      " [ 0.00000000e+00 -1.00476832e-02]\n",
      " [ 2.00000000e+00 -2.00953665e-02]\n",
      " [ 0.00000000e+00 -5.02384162e-03]\n",
      " [-1.00000000e+00  4.42629218e-05]\n",
      " [ 2.00000000e+00  3.04086272e-02]\n",
      " [-1.00000000e+00  1.52043136e-02]\n",
      " [ 0.00000000e+00 -2.00953665e-02]\n",
      " [-1.00000000e+00 -9.95915739e-03]]\n"
     ]
    }
   ],
   "source": [
    "# Best linear prediction of edge effects (u; g = WTu)\n",
    "# cov(u, (y = g + e)') inv(var(y)) (y - E(y))\n",
    "# cov(u, g' = uT'W') ...\n",
    "edge_effects_hat = (Cu @ T.T @ W.T * sigma2u) @ tmp\n",
    "print(np.column_stack((edge_effects, edge_effects_hat)))"
   ]
  },
  {
   "cell_type": "code",
   "execution_count": 488,
   "metadata": {},
   "outputs": [
    {
     "name": "stdout",
     "output_type": "stream",
     "text": [
      "[[ 0.00000000e+00  3.20535075e-03]\n",
      " [-4.47213595e-01  2.26652525e-03]\n",
      " [ 4.47213595e-01  2.26652525e-03]\n",
      " [ 0.00000000e+00 -3.17735642e-03]\n",
      " [ 4.47213595e-01 -4.49346055e-03]\n",
      " [ 0.00000000e+00 -2.24673027e-03]\n",
      " [-4.47213595e-01  1.97949804e-05]\n",
      " [ 5.16397779e-01  7.85147379e-03]\n",
      " [-2.58198890e-01  3.92573690e-03]\n",
      " [ 0.00000000e+00 -6.35471285e-03]\n",
      " [-3.16227766e-01 -3.14936209e-03]]\n",
      "[[ 0.00000000e+00  3.20535075e-03]\n",
      " [-4.47213595e-01  2.26652525e-03]\n",
      " [ 4.47213595e-01  2.26652525e-03]\n",
      " [ 0.00000000e+00 -3.17735642e-03]\n",
      " [ 4.47213595e-01 -4.49346055e-03]\n",
      " [ 0.00000000e+00 -2.24673027e-03]\n",
      " [-4.47213595e-01  1.97949804e-05]\n",
      " [ 5.16397779e-01  7.85147379e-03]\n",
      " [-2.58198890e-01  3.92573690e-03]\n",
      " [ 0.00000000e+00 -6.35471285e-03]\n",
      " [-3.16227766e-01 -3.14936209e-03]]\n"
     ]
    }
   ],
   "source": [
    "# Best linear prediction of edge effects per unit area (u*; u = Su*)\n",
    "edge_effects_per_unit_area_hat = edge_effects_hat / np.sqrt(edge_areas)\n",
    "print(np.column_stack((edge_effects_per_unit_area, edge_effects_per_unit_area_hat)))"
   ]
  },
  {
   "cell_type": "code",
   "execution_count": 489,
   "metadata": {},
   "outputs": [],
   "source": [
    "# Repeating the above via the system of equations for the linear mixed model\n",
    "\n",
    "# TODO: why do we have differences in estimates? numerical or code errors?\n",
    "\n",
    "XX = np.array(X.T @ X, ndmin = 2)\n",
    "XW = np.array(X.T @ W, ndmin = 2)\n",
    "WX = XW.T\n",
    "WW = (W.T @ W).toarray() + Qr * sigma2e / sigma2u\n",
    "LHS = np.concatenate((np.concatenate((XX, XW), axis = 1),\n",
    "                      np.concatenate((WX, WW), axis = 1)),\n",
    "                     axis = 0)\n",
    "\n",
    "Xy = np.array(X.T @ phenotype_values, ndmin = 2)\n",
    "Wy = np.array(W.T @ phenotype_values, ndmin = 2).T\n",
    "RHS = np.concatenate((Xy, Wy), axis = 0)\n",
    "\n",
    "solutions_hat = np.linalg.solve(a = LHS, b = RHS)"
   ]
  },
  {
   "cell_type": "code",
   "execution_count": 490,
   "metadata": {},
   "outputs": [
    {
     "name": "stdout",
     "output_type": "stream",
     "text": [
      "[[10.         10.         10.00504587]]\n",
      "[[10.         10.         10.00504587]]\n"
     ]
    }
   ],
   "source": [
    "intercept_hat2 = solutions_hat[0]\n",
    "print(np.column_stack((intercept, intercept_hat, intercept_hat2)))"
   ]
  },
  {
   "cell_type": "code",
   "execution_count": 491,
   "metadata": {},
   "outputs": [
    {
     "name": "stdout",
     "output_type": "stream",
     "text": [
      "[[ 1.          0.05574915  0.05550459]\n",
      " [ 1.          0.03547673  0.0353211 ]\n",
      " [-1.         -0.00484679 -0.00504587]\n",
      " [-2.         -0.04508179 -0.04541284]\n",
      " [ 1.         -0.05014989 -0.05045872]\n",
      " [ 0.         -0.02511921 -0.02522936]\n",
      " [-2.         -0.00991489 -0.01009174]\n",
      " [ 2.          0.03040863  0.03027523]\n",
      " [-1.          0.01520431  0.01513761]\n",
      " [ 0.         -0.02009537 -0.02018349]\n",
      " [-1.         -0.00995916 -0.01009174]]\n",
      "[[ 1.          0.05574915  0.05550459]\n",
      " [ 1.          0.03547673  0.0353211 ]\n",
      " [-1.         -0.00484679 -0.00504587]\n",
      " [-2.         -0.04508179 -0.04541284]\n",
      " [ 1.         -0.05014989 -0.05045872]\n",
      " [ 0.         -0.02511921 -0.02522936]\n",
      " [-2.         -0.00991489 -0.01009174]\n",
      " [ 2.          0.03040863  0.03027523]\n",
      " [-1.          0.01520431  0.01513761]\n",
      " [ 0.         -0.02009537 -0.02018349]\n",
      " [-1.         -0.00995916 -0.01009174]]\n"
     ]
    }
   ],
   "source": [
    "edge_values_hat2 = solutions_hat[1:12]\n",
    "print(np.column_stack((edge_values, edge_values_hat, edge_values_hat2)))"
   ]
  },
  {
   "cell_type": "code",
   "execution_count": 492,
   "metadata": {},
   "outputs": [
    {
     "name": "stdout",
     "output_type": "stream",
     "text": [
      "[[ 0.00000000e+00  1.01362091e-02  1.00917431e-02]\n",
      " [-1.00000000e+00  5.06810454e-03  5.04587156e-03]\n",
      " [ 1.00000000e+00  5.06810454e-03  5.04587156e-03]\n",
      " [ 0.00000000e+00 -1.00476832e-02 -1.00917431e-02]\n",
      " [ 2.00000000e+00 -2.00953665e-02 -2.01834862e-02]\n",
      " [ 0.00000000e+00 -5.02384162e-03 -5.04587156e-03]\n",
      " [-1.00000000e+00  4.42629218e-05  5.20417043e-18]\n",
      " [ 2.00000000e+00  3.04086272e-02  3.02752294e-02]\n",
      " [-1.00000000e+00  1.52043136e-02  1.51376147e-02]\n",
      " [ 0.00000000e+00 -2.00953665e-02 -2.01834862e-02]\n",
      " [-1.00000000e+00 -9.95915739e-03 -1.00917431e-02]]\n",
      "[[ 0.00000000e+00  1.01362091e-02  1.00917431e-02]\n",
      " [-1.00000000e+00  5.06810454e-03  5.04587156e-03]\n",
      " [ 1.00000000e+00  5.06810454e-03  5.04587156e-03]\n",
      " [ 0.00000000e+00 -1.00476832e-02 -1.00917431e-02]\n",
      " [ 2.00000000e+00 -2.00953665e-02 -2.01834862e-02]\n",
      " [ 0.00000000e+00 -5.02384162e-03 -5.04587156e-03]\n",
      " [-1.00000000e+00  4.42629218e-05  5.20417043e-18]\n",
      " [ 2.00000000e+00  3.04086272e-02  3.02752294e-02]\n",
      " [-1.00000000e+00  1.52043136e-02  1.51376147e-02]\n",
      " [ 0.00000000e+00 -2.00953665e-02 -2.01834862e-02]\n",
      " [-1.00000000e+00 -9.95915739e-03 -1.00917431e-02]]\n"
     ]
    }
   ],
   "source": [
    "edge_effects_hat2 = TInv @ edge_values_hat2 # r = Tu --> inv(T) r = u\n",
    "print(np.column_stack((edge_effects, edge_effects_hat, edge_effects_hat2)))"
   ]
  },
  {
   "cell_type": "code",
   "execution_count": 493,
   "metadata": {},
   "outputs": [
    {
     "name": "stdout",
     "output_type": "stream",
     "text": [
      "[[ 0.00000000e+00  3.20535075e-03  3.19128938e-03]\n",
      " [-4.47213595e-01  2.26652525e-03  2.25658236e-03]\n",
      " [ 4.47213595e-01  2.26652525e-03  2.25658236e-03]\n",
      " [ 0.00000000e+00 -3.17735642e-03 -3.19128938e-03]\n",
      " [ 4.47213595e-01 -4.49346055e-03 -4.51316473e-03]\n",
      " [ 0.00000000e+00 -2.24673027e-03 -2.25658236e-03]\n",
      " [-4.47213595e-01  1.97949804e-05  2.60208521e-18]\n",
      " [ 5.16397779e-01  7.85147379e-03  7.81703061e-03]\n",
      " [-2.58198890e-01  3.92573690e-03  3.90851530e-03]\n",
      " [ 0.00000000e+00 -6.35471285e-03 -6.38257876e-03]\n",
      " [-3.16227766e-01 -3.14936209e-03 -3.19128938e-03]]\n",
      "[[ 0.00000000e+00  3.20535075e-03  3.19128938e-03]\n",
      " [-4.47213595e-01  2.26652525e-03  2.25658236e-03]\n",
      " [ 4.47213595e-01  2.26652525e-03  2.25658236e-03]\n",
      " [ 0.00000000e+00 -3.17735642e-03 -3.19128938e-03]\n",
      " [ 4.47213595e-01 -4.49346055e-03 -4.51316473e-03]\n",
      " [ 0.00000000e+00 -2.24673027e-03 -2.25658236e-03]\n",
      " [-4.47213595e-01  1.97949804e-05  2.60208521e-18]\n",
      " [ 5.16397779e-01  7.85147379e-03  7.81703061e-03]\n",
      " [-2.58198890e-01  3.92573690e-03  3.90851530e-03]\n",
      " [ 0.00000000e+00 -6.35471285e-03 -6.38257876e-03]\n",
      " [-3.16227766e-01 -3.14936209e-03 -3.19128938e-03]]\n"
     ]
    }
   ],
   "source": [
    "edge_effects_per_unit_area_hat2 = LInv @ edge_values_hat2 # r = TSu* = Lu* --> inv(L) r = u*\n",
    "print(np.column_stack((edge_effects_per_unit_area, edge_effects_per_unit_area_hat, edge_effects_per_unit_area_hat2)))"
   ]
  },
  {
   "cell_type": "code",
   "execution_count": 494,
   "metadata": {},
   "outputs": [
    {
     "name": "stdout",
     "output_type": "stream",
     "text": [
      "[[ 1.          0.05574915  0.05550459]\n",
      " [ 0.          0.03062994  0.03027523]\n",
      " [-2.         -0.04508179 -0.04541284]\n",
      " [ 1.         -0.05014989 -0.05045872]\n",
      " [ 1.          0.04561294  0.04541284]\n",
      " [-2.         -0.0350341  -0.0353211 ]\n",
      " [-1.         -0.03005452 -0.03027523]\n",
      " [ 0.          0.          0.        ]]\n",
      "[[ 1.          0.05574915  0.05550459]\n",
      " [ 0.          0.03062994  0.03027523]\n",
      " [-2.         -0.04508179 -0.04541284]\n",
      " [ 1.         -0.05014989 -0.05045872]\n",
      " [ 1.          0.04561294  0.04541284]\n",
      " [-2.         -0.0350341  -0.0353211 ]\n",
      " [-1.         -0.03005452 -0.03027523]\n",
      " [ 0.          0.          0.        ]]\n"
     ]
    }
   ],
   "source": [
    "node_values_hat2 = N @ edge_values_hat2 # n = Nr\n",
    "print(np.column_stack((node_values, node_values_hat, node_values_hat2)))"
   ]
  },
  {
   "cell_type": "code",
   "execution_count": 495,
   "metadata": {},
   "outputs": [
    {
     "name": "stdout",
     "output_type": "stream",
     "text": [
      "[[ 1.          0.08637909  0.08577982]\n",
      " [-1.         -0.09523168 -0.09587156]]\n",
      "[[ 1.          0.08637909  0.08577982]\n",
      " [-1.         -0.09523168 -0.09587156]]\n"
     ]
    }
   ],
   "source": [
    "genetic_values_hat2 = W @ edge_values_hat2 # g = Wr\n",
    "print(np.column_stack((genetic_values, genetic_values_hat, genetic_values_hat2)))"
   ]
  },
  {
   "cell_type": "markdown",
   "metadata": {},
   "source": [
    "# Estimate effects and values (using tslmm)"
   ]
  },
  {
   "cell_type": "code",
   "execution_count": 496,
   "metadata": {},
   "outputs": [
    {
     "name": "stdout",
     "output_type": "stream",
     "text": [
      "2\n",
      "[[ 0.00000000e+00  3.20535075e-03  3.20535075e-03  3.20535075e-03]\n",
      " [-4.47213595e-01  2.26652525e-03  2.26652525e-03  2.26652525e-03]\n",
      " [ 4.47213595e-01  2.26652525e-03  2.26652525e-03  2.26652525e-03]\n",
      " [ 0.00000000e+00 -3.17735642e-03 -3.17735642e-03 -3.17735642e-03]\n",
      " [ 4.47213595e-01 -4.49346055e-03 -4.49346055e-03 -4.49346055e-03]\n",
      " [ 0.00000000e+00 -2.24673027e-03 -2.24673027e-03 -2.24673027e-03]\n",
      " [-4.47213595e-01  1.97949804e-05  1.97949804e-05  1.97949804e-05]\n",
      " [ 5.16397779e-01  7.85147379e-03  7.85147379e-03  7.85147379e-03]\n",
      " [-2.58198890e-01  3.92573690e-03  3.92573690e-03  3.92573690e-03]\n",
      " [ 0.00000000e+00 -6.35471285e-03 -6.35471285e-03 -6.35471285e-03]\n",
      " [-3.16227766e-01 -3.14936209e-03 -3.14936209e-03 -3.14936209e-03]]\n",
      "2\n",
      "[[ 0.00000000e+00  3.20535075e-03  3.20535075e-03  3.20535075e-03]\n",
      " [-4.47213595e-01  2.26652525e-03  2.26652525e-03  2.26652525e-03]\n",
      " [ 4.47213595e-01  2.26652525e-03  2.26652525e-03  2.26652525e-03]\n",
      " [ 0.00000000e+00 -3.17735642e-03 -3.17735642e-03 -3.17735642e-03]\n",
      " [ 4.47213595e-01 -4.49346055e-03 -4.49346055e-03 -4.49346055e-03]\n",
      " [ 0.00000000e+00 -2.24673027e-03 -2.24673027e-03 -2.24673027e-03]\n",
      " [-4.47213595e-01  1.97949804e-05  1.97949804e-05  1.97949804e-05]\n",
      " [ 5.16397779e-01  7.85147379e-03  7.85147379e-03  7.85147379e-03]\n",
      " [-2.58198890e-01  3.92573690e-03  3.92573690e-03  3.92573690e-03]\n",
      " [ 0.00000000e+00 -6.35471285e-03 -6.35471285e-03 -6.35471285e-03]\n",
      " [-3.16227766e-01 -3.14936209e-03 -3.14936209e-03 -3.14936209e-03]]\n"
     ]
    }
   ],
   "source": [
    "y = phenotype_values - intercept_hat\n",
    "\n",
    "covmat = TraitCovariance(ts)\n",
    "precon = NystromPreconditioner(covmat, rank = 1, samples = 10)\n",
    "edge_effects_per_unit_area_cg_hat, _ = edge_effects_fun(sigma2e, sigma2u, y, covmat, None)\n",
    "Xn = covmat.Z.toarray() @ np.linalg.inv(covmat.L.T.toarray())\n",
    "post_var = np.linalg.inv(np.eye(covmat.factor_dim) / sigma2u + Xn.T @ Xn / sigma2e)\n",
    "edge_effects_per_unit_area_exact_hat = post_var @ Xn.T @ y / sigma2e\n",
    "\n",
    "print(np.column_stack((edge_effects_per_unit_area, edge_effects_per_unit_area_hat,\n",
    "                       edge_effects_per_unit_area_exact_hat, edge_effects_per_unit_area_cg_hat)))"
   ]
  }
 ],
 "metadata": {
  "language_info": {
   "name": "python"
  }
 },
 "nbformat": 4,
 "nbformat_minor": 2
}
